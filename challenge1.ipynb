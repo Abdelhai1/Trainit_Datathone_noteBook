{
 "cells": [
  {
   "cell_type": "code",
   "execution_count": 133,
   "metadata": {},
   "outputs": [
    {
     "data": {
      "text/html": [
       "<div>\n",
       "<style scoped>\n",
       "    .dataframe tbody tr th:only-of-type {\n",
       "        vertical-align: middle;\n",
       "    }\n",
       "\n",
       "    .dataframe tbody tr th {\n",
       "        vertical-align: top;\n",
       "    }\n",
       "\n",
       "    .dataframe thead th {\n",
       "        text-align: right;\n",
       "    }\n",
       "</style>\n",
       "<table border=\"1\" class=\"dataframe\">\n",
       "  <thead>\n",
       "    <tr style=\"text-align: right;\">\n",
       "      <th></th>\n",
       "      <th>installmentIndex</th>\n",
       "      <th>principal</th>\n",
       "      <th>fees</th>\n",
       "      <th>paymentAmount</th>\n",
       "    </tr>\n",
       "  </thead>\n",
       "  <tbody>\n",
       "    <tr>\n",
       "      <th>count</th>\n",
       "      <td>16645.000000</td>\n",
       "      <td>16645.000000</td>\n",
       "      <td>16645.000000</td>\n",
       "      <td>16645.000000</td>\n",
       "    </tr>\n",
       "    <tr>\n",
       "      <th>mean</th>\n",
       "      <td>10.158967</td>\n",
       "      <td>52.559187</td>\n",
       "      <td>69.629733</td>\n",
       "      <td>122.224102</td>\n",
       "    </tr>\n",
       "    <tr>\n",
       "      <th>std</th>\n",
       "      <td>8.191749</td>\n",
       "      <td>107.089471</td>\n",
       "      <td>62.496008</td>\n",
       "      <td>128.425110</td>\n",
       "    </tr>\n",
       "    <tr>\n",
       "      <th>min</th>\n",
       "      <td>1.000000</td>\n",
       "      <td>-191.090000</td>\n",
       "      <td>-42.560000</td>\n",
       "      <td>-212.770000</td>\n",
       "    </tr>\n",
       "    <tr>\n",
       "      <th>25%</th>\n",
       "      <td>4.000000</td>\n",
       "      <td>13.610000</td>\n",
       "      <td>28.200000</td>\n",
       "      <td>60.140000</td>\n",
       "    </tr>\n",
       "    <tr>\n",
       "      <th>50%</th>\n",
       "      <td>9.000000</td>\n",
       "      <td>28.850000</td>\n",
       "      <td>52.620000</td>\n",
       "      <td>88.360000</td>\n",
       "    </tr>\n",
       "    <tr>\n",
       "      <th>75%</th>\n",
       "      <td>13.000000</td>\n",
       "      <td>57.960000</td>\n",
       "      <td>91.550000</td>\n",
       "      <td>148.410000</td>\n",
       "    </tr>\n",
       "    <tr>\n",
       "      <th>max</th>\n",
       "      <td>104.000000</td>\n",
       "      <td>3786.840000</td>\n",
       "      <td>618.490000</td>\n",
       "      <td>3983.760000</td>\n",
       "    </tr>\n",
       "  </tbody>\n",
       "</table>\n",
       "</div>"
      ],
      "text/plain": [
       "       installmentIndex     principal          fees  paymentAmount\n",
       "count      16645.000000  16645.000000  16645.000000   16645.000000\n",
       "mean          10.158967     52.559187     69.629733     122.224102\n",
       "std            8.191749    107.089471     62.496008     128.425110\n",
       "min            1.000000   -191.090000    -42.560000    -212.770000\n",
       "25%            4.000000     13.610000     28.200000      60.140000\n",
       "50%            9.000000     28.850000     52.620000      88.360000\n",
       "75%           13.000000     57.960000     91.550000     148.410000\n",
       "max          104.000000   3786.840000    618.490000    3983.760000"
      ]
     },
     "execution_count": 133,
     "metadata": {},
     "output_type": "execute_result"
    }
   ],
   "source": [
    "import pandas as pd\n",
    "# save filepath to variable for easier access\n",
    "melbourne_file_path = r'D:\\1challenge\\evaluation\\loans.csv'\n",
    "melbourne_file_path2 = r'D:\\1challenge\\evaluation\\payments.csv'\n",
    "# read the data and store data in DataFrame titled melbourne_data\n",
    "dff1 = pd.read_csv(melbourne_file_path) \n",
    "dff2 = pd.read_csv(melbourne_file_path2) \n",
    "# print a summary of the data in Melbourne data\n",
    "dff2.describe()\n"
   ]
  },
  {
   "cell_type": "code",
   "execution_count": 134,
   "metadata": {},
   "outputs": [
    {
     "name": "stdout",
     "output_type": "stream",
     "text": [
      "loanId                                0\n",
      "anon_ssn                              0\n",
      "payFrequency                          0\n",
      "apr                                   0\n",
      "applicationDate                       0\n",
      "originated                            0\n",
      "originatedDate                        1\n",
      "nPaidOff                              0\n",
      "approved                              0\n",
      "isFunded                              0\n",
      "loanAmount                            0\n",
      "originallyScheduledPaymentAmount      0\n",
      "state                                 0\n",
      "leadType                              0\n",
      "leadCost                              0\n",
      "fpStatus                              0\n",
      "clarityFraudId                      158\n",
      "hasCF                                 0\n",
      "dtype: int64\n"
     ]
    }
   ],
   "source": [
    "\n",
    "dff1['fpStatus'] = dff1['fpStatus'].fillna(-10)\n",
    "missing_values = dff1.isnull().sum()\n",
    "print(missing_values)"
   ]
  },
  {
   "cell_type": "code",
   "execution_count": 132,
   "metadata": {},
   "outputs": [],
   "source": [
    "# Drop rows with empty loanId\n",
    "dff1 = dff1.dropna(subset=['loanId'])\n",
    "\n",
    "# Reset index\n",
    "dff1.reset_index(drop=True, inplace=True)"
   ]
  },
  {
   "cell_type": "code",
   "execution_count": 48,
   "metadata": {},
   "outputs": [],
   "source": [
    "# Drop rows with empty loanId\n",
    "dff1 = dff1.dropna(subset=['nPaidOff'])\n",
    "\n",
    "# Reset index\n",
    "dff1.reset_index(drop=True, inplace=True)"
   ]
  },
  {
   "cell_type": "code",
   "execution_count": 49,
   "metadata": {},
   "outputs": [],
   "source": [
    "# Drop rows with empty loanId\n",
    "dff1 = dff1.dropna(subset=['payFrequency'])\n",
    "\n",
    "# Reset index\n",
    "dff1.reset_index(drop=True, inplace=True)"
   ]
  },
  {
   "cell_type": "code",
   "execution_count": 50,
   "metadata": {},
   "outputs": [],
   "source": [
    "# Drop rows with empty loanId\n",
    "dff1 = dff1.dropna(subset=['apr'])\n",
    "\n",
    "# Reset index\n",
    "dff1.reset_index(drop=True, inplace=True)"
   ]
  },
  {
   "cell_type": "code",
   "execution_count": 51,
   "metadata": {},
   "outputs": [],
   "source": [
    "# Drop rows with empty loanId\n",
    "dff1 = dff1.dropna(subset=['loanStatus'])\n",
    "\n",
    "# Reset index\n",
    "dff1.reset_index(drop=True, inplace=True)"
   ]
  },
  {
   "cell_type": "code",
   "execution_count": 52,
   "metadata": {},
   "outputs": [],
   "source": [
    "# Drop rows with empty loanId\n",
    "dff1 = dff1.dropna(subset=['loanAmount'])\n",
    "\n",
    "# Reset index\n",
    "dff1.reset_index(drop=True, inplace=True)"
   ]
  },
  {
   "cell_type": "code",
   "execution_count": 53,
   "metadata": {},
   "outputs": [],
   "source": [
    "# Drop rows with empty loanId\n",
    "dff1 = dff1.dropna(subset=['state'])\n",
    "\n",
    "# Reset index\n",
    "dff1.reset_index(drop=True, inplace=True)"
   ]
  },
  {
   "cell_type": "code",
   "execution_count": 135,
   "metadata": {},
   "outputs": [],
   "source": [
    "dff1 = dff1.drop('originatedDate',axis='columns')"
   ]
  },
  {
   "cell_type": "code",
   "execution_count": 136,
   "metadata": {},
   "outputs": [],
   "source": [
    "dff1 = dff1.drop('fpStatus',axis='columns')"
   ]
  },
  {
   "cell_type": "code",
   "execution_count": 137,
   "metadata": {},
   "outputs": [],
   "source": [
    "dff1 = dff1.drop('clarityFraudId',axis='columns')"
   ]
  },
  {
   "cell_type": "code",
   "execution_count": 138,
   "metadata": {},
   "outputs": [
    {
     "name": "stdout",
     "output_type": "stream",
     "text": [
      "loanId                              0\n",
      "anon_ssn                            0\n",
      "payFrequency                        0\n",
      "apr                                 0\n",
      "applicationDate                     0\n",
      "originated                          0\n",
      "nPaidOff                            0\n",
      "approved                            0\n",
      "isFunded                            0\n",
      "loanAmount                          0\n",
      "originallyScheduledPaymentAmount    0\n",
      "state                               0\n",
      "leadType                            0\n",
      "leadCost                            0\n",
      "hasCF                               0\n",
      "dtype: int64\n"
     ]
    }
   ],
   "source": [
    "missing_values = dff1.isnull().sum()\n",
    "print(missing_values)"
   ]
  },
  {
   "cell_type": "code",
   "execution_count": 139,
   "metadata": {},
   "outputs": [
    {
     "name": "stdout",
     "output_type": "stream",
     "text": [
      "loanId                   0\n",
      "installmentIndex         0\n",
      "isCollection             0\n",
      "paymentDate              0\n",
      "principal                0\n",
      "fees                     0\n",
      "paymentAmount            0\n",
      "paymentStatus            0\n",
      "paymentReturnCode    16195\n",
      "dtype: int64\n"
     ]
    }
   ],
   "source": [
    "missing_values = dff2.isnull().sum()\n",
    "print(missing_values)"
   ]
  },
  {
   "cell_type": "code",
   "execution_count": 140,
   "metadata": {},
   "outputs": [],
   "source": [
    "dff2 = dff2.drop('paymentReturnCode',axis='columns')"
   ]
  },
  {
   "cell_type": "code",
   "execution_count": 141,
   "metadata": {
    "scrolled": true
   },
   "outputs": [
    {
     "name": "stdout",
     "output_type": "stream",
     "text": [
      "loanId              0\n",
      "installmentIndex    0\n",
      "isCollection        0\n",
      "paymentDate         0\n",
      "principal           0\n",
      "fees                0\n",
      "paymentAmount       0\n",
      "paymentStatus       0\n",
      "dtype: int64\n"
     ]
    }
   ],
   "source": [
    "missing_values = dff2.isnull().sum()\n",
    "print(missing_values)"
   ]
  },
  {
   "cell_type": "code",
   "execution_count": 142,
   "metadata": {},
   "outputs": [
    {
     "data": {
      "text/plain": [
       "(1000, 15)"
      ]
     },
     "execution_count": 142,
     "metadata": {},
     "output_type": "execute_result"
    }
   ],
   "source": [
    "dff1.shape"
   ]
  },
  {
   "cell_type": "code",
   "execution_count": 143,
   "metadata": {},
   "outputs": [
    {
     "data": {
      "text/plain": [
       "(16645, 8)"
      ]
     },
     "execution_count": 143,
     "metadata": {},
     "output_type": "execute_result"
    }
   ],
   "source": [
    "dff2.shape"
   ]
  },
  {
   "cell_type": "code",
   "execution_count": 144,
   "metadata": {},
   "outputs": [
    {
     "ename": "KeyError",
     "evalue": "'loanStatus'",
     "output_type": "error",
     "traceback": [
      "\u001b[1;31m---------------------------------------------------------------------------\u001b[0m",
      "\u001b[1;31mKeyError\u001b[0m                                  Traceback (most recent call last)",
      "\u001b[1;32mD:\\anaconda\\lib\\site-packages\\pandas\\core\\indexes\\base.py\u001b[0m in \u001b[0;36mget_loc\u001b[1;34m(self, key, method, tolerance)\u001b[0m\n\u001b[0;32m   2894\u001b[0m             \u001b[1;32mtry\u001b[0m\u001b[1;33m:\u001b[0m\u001b[1;33m\u001b[0m\u001b[1;33m\u001b[0m\u001b[0m\n\u001b[1;32m-> 2895\u001b[1;33m                 \u001b[1;32mreturn\u001b[0m \u001b[0mself\u001b[0m\u001b[1;33m.\u001b[0m\u001b[0m_engine\u001b[0m\u001b[1;33m.\u001b[0m\u001b[0mget_loc\u001b[0m\u001b[1;33m(\u001b[0m\u001b[0mcasted_key\u001b[0m\u001b[1;33m)\u001b[0m\u001b[1;33m\u001b[0m\u001b[1;33m\u001b[0m\u001b[0m\n\u001b[0m\u001b[0;32m   2896\u001b[0m             \u001b[1;32mexcept\u001b[0m \u001b[0mKeyError\u001b[0m \u001b[1;32mas\u001b[0m \u001b[0merr\u001b[0m\u001b[1;33m:\u001b[0m\u001b[1;33m\u001b[0m\u001b[1;33m\u001b[0m\u001b[0m\n",
      "\u001b[1;32mpandas\\_libs\\index.pyx\u001b[0m in \u001b[0;36mpandas._libs.index.IndexEngine.get_loc\u001b[1;34m()\u001b[0m\n",
      "\u001b[1;32mpandas\\_libs\\index.pyx\u001b[0m in \u001b[0;36mpandas._libs.index.IndexEngine.get_loc\u001b[1;34m()\u001b[0m\n",
      "\u001b[1;32mpandas\\_libs\\hashtable_class_helper.pxi\u001b[0m in \u001b[0;36mpandas._libs.hashtable.PyObjectHashTable.get_item\u001b[1;34m()\u001b[0m\n",
      "\u001b[1;32mpandas\\_libs\\hashtable_class_helper.pxi\u001b[0m in \u001b[0;36mpandas._libs.hashtable.PyObjectHashTable.get_item\u001b[1;34m()\u001b[0m\n",
      "\u001b[1;31mKeyError\u001b[0m: 'loanStatus'",
      "\nThe above exception was the direct cause of the following exception:\n",
      "\u001b[1;31mKeyError\u001b[0m                                  Traceback (most recent call last)",
      "\u001b[1;32m<ipython-input-144-68080448556a>\u001b[0m in \u001b[0;36m<module>\u001b[1;34m\u001b[0m\n\u001b[1;32m----> 1\u001b[1;33m \u001b[0mdff1\u001b[0m\u001b[1;33m[\u001b[0m\u001b[1;34m'loanStatus'\u001b[0m\u001b[1;33m]\u001b[0m\u001b[1;33m.\u001b[0m\u001b[0munique\u001b[0m\u001b[1;33m(\u001b[0m\u001b[1;33m)\u001b[0m\u001b[1;33m\u001b[0m\u001b[1;33m\u001b[0m\u001b[0m\n\u001b[0m",
      "\u001b[1;32mD:\\anaconda\\lib\\site-packages\\pandas\\core\\frame.py\u001b[0m in \u001b[0;36m__getitem__\u001b[1;34m(self, key)\u001b[0m\n\u001b[0;32m   2900\u001b[0m             \u001b[1;32mif\u001b[0m \u001b[0mself\u001b[0m\u001b[1;33m.\u001b[0m\u001b[0mcolumns\u001b[0m\u001b[1;33m.\u001b[0m\u001b[0mnlevels\u001b[0m \u001b[1;33m>\u001b[0m \u001b[1;36m1\u001b[0m\u001b[1;33m:\u001b[0m\u001b[1;33m\u001b[0m\u001b[1;33m\u001b[0m\u001b[0m\n\u001b[0;32m   2901\u001b[0m                 \u001b[1;32mreturn\u001b[0m \u001b[0mself\u001b[0m\u001b[1;33m.\u001b[0m\u001b[0m_getitem_multilevel\u001b[0m\u001b[1;33m(\u001b[0m\u001b[0mkey\u001b[0m\u001b[1;33m)\u001b[0m\u001b[1;33m\u001b[0m\u001b[1;33m\u001b[0m\u001b[0m\n\u001b[1;32m-> 2902\u001b[1;33m             \u001b[0mindexer\u001b[0m \u001b[1;33m=\u001b[0m \u001b[0mself\u001b[0m\u001b[1;33m.\u001b[0m\u001b[0mcolumns\u001b[0m\u001b[1;33m.\u001b[0m\u001b[0mget_loc\u001b[0m\u001b[1;33m(\u001b[0m\u001b[0mkey\u001b[0m\u001b[1;33m)\u001b[0m\u001b[1;33m\u001b[0m\u001b[1;33m\u001b[0m\u001b[0m\n\u001b[0m\u001b[0;32m   2903\u001b[0m             \u001b[1;32mif\u001b[0m \u001b[0mis_integer\u001b[0m\u001b[1;33m(\u001b[0m\u001b[0mindexer\u001b[0m\u001b[1;33m)\u001b[0m\u001b[1;33m:\u001b[0m\u001b[1;33m\u001b[0m\u001b[1;33m\u001b[0m\u001b[0m\n\u001b[0;32m   2904\u001b[0m                 \u001b[0mindexer\u001b[0m \u001b[1;33m=\u001b[0m \u001b[1;33m[\u001b[0m\u001b[0mindexer\u001b[0m\u001b[1;33m]\u001b[0m\u001b[1;33m\u001b[0m\u001b[1;33m\u001b[0m\u001b[0m\n",
      "\u001b[1;32mD:\\anaconda\\lib\\site-packages\\pandas\\core\\indexes\\base.py\u001b[0m in \u001b[0;36mget_loc\u001b[1;34m(self, key, method, tolerance)\u001b[0m\n\u001b[0;32m   2895\u001b[0m                 \u001b[1;32mreturn\u001b[0m \u001b[0mself\u001b[0m\u001b[1;33m.\u001b[0m\u001b[0m_engine\u001b[0m\u001b[1;33m.\u001b[0m\u001b[0mget_loc\u001b[0m\u001b[1;33m(\u001b[0m\u001b[0mcasted_key\u001b[0m\u001b[1;33m)\u001b[0m\u001b[1;33m\u001b[0m\u001b[1;33m\u001b[0m\u001b[0m\n\u001b[0;32m   2896\u001b[0m             \u001b[1;32mexcept\u001b[0m \u001b[0mKeyError\u001b[0m \u001b[1;32mas\u001b[0m \u001b[0merr\u001b[0m\u001b[1;33m:\u001b[0m\u001b[1;33m\u001b[0m\u001b[1;33m\u001b[0m\u001b[0m\n\u001b[1;32m-> 2897\u001b[1;33m                 \u001b[1;32mraise\u001b[0m \u001b[0mKeyError\u001b[0m\u001b[1;33m(\u001b[0m\u001b[0mkey\u001b[0m\u001b[1;33m)\u001b[0m \u001b[1;32mfrom\u001b[0m \u001b[0merr\u001b[0m\u001b[1;33m\u001b[0m\u001b[1;33m\u001b[0m\u001b[0m\n\u001b[0m\u001b[0;32m   2898\u001b[0m \u001b[1;33m\u001b[0m\u001b[0m\n\u001b[0;32m   2899\u001b[0m         \u001b[1;32mif\u001b[0m \u001b[0mtolerance\u001b[0m \u001b[1;32mis\u001b[0m \u001b[1;32mnot\u001b[0m \u001b[1;32mNone\u001b[0m\u001b[1;33m:\u001b[0m\u001b[1;33m\u001b[0m\u001b[1;33m\u001b[0m\u001b[0m\n",
      "\u001b[1;31mKeyError\u001b[0m: 'loanStatus'"
     ]
    }
   ],
   "source": [
    "dff1['loanStatus'].unique()"
   ]
  },
  {
   "cell_type": "code",
   "execution_count": 145,
   "metadata": {},
   "outputs": [
    {
     "data": {
      "text/plain": [
       "(1000, 15)"
      ]
     },
     "execution_count": 145,
     "metadata": {},
     "output_type": "execute_result"
    }
   ],
   "source": [
    "dff1.shape\n"
   ]
  },
  {
   "cell_type": "code",
   "execution_count": 146,
   "metadata": {},
   "outputs": [
    {
     "data": {
      "text/plain": [
       "(1000, 22)"
      ]
     },
     "execution_count": 146,
     "metadata": {},
     "output_type": "execute_result"
    }
   ],
   "source": [
    "# Merge df1 and df2 based on loanId using an inner join\n",
    "merged_df = pd.merge(dff1, dff2, on='loanId', how='inner')\n",
    "\n",
    "# Select the first 1000 rows\n",
    "dff = merged_df.head(1000)\n",
    "\n",
    "# Display the resulting DataFrame\n",
    "dff.shape\n",
    "\n",
    "\n"
   ]
  },
  {
   "cell_type": "code",
   "execution_count": 147,
   "metadata": {},
   "outputs": [
    {
     "data": {
      "text/html": [
       "<div>\n",
       "<style scoped>\n",
       "    .dataframe tbody tr th:only-of-type {\n",
       "        vertical-align: middle;\n",
       "    }\n",
       "\n",
       "    .dataframe tbody tr th {\n",
       "        vertical-align: top;\n",
       "    }\n",
       "\n",
       "    .dataframe thead th {\n",
       "        text-align: right;\n",
       "    }\n",
       "</style>\n",
       "<table border=\"1\" class=\"dataframe\">\n",
       "  <thead>\n",
       "    <tr style=\"text-align: right;\">\n",
       "      <th></th>\n",
       "      <th>loanId</th>\n",
       "      <th>anon_ssn</th>\n",
       "      <th>payFrequency</th>\n",
       "      <th>apr</th>\n",
       "      <th>applicationDate</th>\n",
       "      <th>originated</th>\n",
       "      <th>nPaidOff</th>\n",
       "      <th>approved</th>\n",
       "      <th>isFunded</th>\n",
       "      <th>loanAmount</th>\n",
       "      <th>...</th>\n",
       "      <th>leadType</th>\n",
       "      <th>leadCost</th>\n",
       "      <th>hasCF</th>\n",
       "      <th>installmentIndex</th>\n",
       "      <th>isCollection</th>\n",
       "      <th>paymentDate</th>\n",
       "      <th>principal</th>\n",
       "      <th>fees</th>\n",
       "      <th>paymentAmount</th>\n",
       "      <th>paymentStatus</th>\n",
       "    </tr>\n",
       "  </thead>\n",
       "  <tbody>\n",
       "    <tr>\n",
       "      <th>0</th>\n",
       "      <td>LL-I-17438410</td>\n",
       "      <td>c9448f6494e012f94d8aef9a9bb10534</td>\n",
       "      <td>B</td>\n",
       "      <td>475.0</td>\n",
       "      <td>2017-02-20T17:02:28.419000</td>\n",
       "      <td>True</td>\n",
       "      <td>0</td>\n",
       "      <td>True</td>\n",
       "      <td>1</td>\n",
       "      <td>1000</td>\n",
       "      <td>...</td>\n",
       "      <td>lead</td>\n",
       "      <td>40</td>\n",
       "      <td>1</td>\n",
       "      <td>1</td>\n",
       "      <td>False</td>\n",
       "      <td>2017-03-03T05:00:00</td>\n",
       "      <td>66.33</td>\n",
       "      <td>130.14</td>\n",
       "      <td>196.47</td>\n",
       "      <td>Checked</td>\n",
       "    </tr>\n",
       "    <tr>\n",
       "      <th>1</th>\n",
       "      <td>LL-I-17438410</td>\n",
       "      <td>c9448f6494e012f94d8aef9a9bb10534</td>\n",
       "      <td>B</td>\n",
       "      <td>475.0</td>\n",
       "      <td>2017-02-20T17:02:28.419000</td>\n",
       "      <td>True</td>\n",
       "      <td>0</td>\n",
       "      <td>True</td>\n",
       "      <td>1</td>\n",
       "      <td>1000</td>\n",
       "      <td>...</td>\n",
       "      <td>lead</td>\n",
       "      <td>40</td>\n",
       "      <td>1</td>\n",
       "      <td>2</td>\n",
       "      <td>False</td>\n",
       "      <td>2017-03-17T04:00:00</td>\n",
       "      <td>26.36</td>\n",
       "      <td>170.11</td>\n",
       "      <td>196.47</td>\n",
       "      <td>Pending</td>\n",
       "    </tr>\n",
       "    <tr>\n",
       "      <th>2</th>\n",
       "      <td>LL-I-17438410</td>\n",
       "      <td>c9448f6494e012f94d8aef9a9bb10534</td>\n",
       "      <td>B</td>\n",
       "      <td>475.0</td>\n",
       "      <td>2017-02-20T17:02:28.419000</td>\n",
       "      <td>True</td>\n",
       "      <td>0</td>\n",
       "      <td>True</td>\n",
       "      <td>1</td>\n",
       "      <td>1000</td>\n",
       "      <td>...</td>\n",
       "      <td>lead</td>\n",
       "      <td>40</td>\n",
       "      <td>1</td>\n",
       "      <td>3</td>\n",
       "      <td>False</td>\n",
       "      <td>2017-03-31T04:00:00</td>\n",
       "      <td>31.17</td>\n",
       "      <td>165.30</td>\n",
       "      <td>196.47</td>\n",
       "      <td>None</td>\n",
       "    </tr>\n",
       "    <tr>\n",
       "      <th>3</th>\n",
       "      <td>LL-I-17438410</td>\n",
       "      <td>c9448f6494e012f94d8aef9a9bb10534</td>\n",
       "      <td>B</td>\n",
       "      <td>475.0</td>\n",
       "      <td>2017-02-20T17:02:28.419000</td>\n",
       "      <td>True</td>\n",
       "      <td>0</td>\n",
       "      <td>True</td>\n",
       "      <td>1</td>\n",
       "      <td>1000</td>\n",
       "      <td>...</td>\n",
       "      <td>lead</td>\n",
       "      <td>40</td>\n",
       "      <td>1</td>\n",
       "      <td>4</td>\n",
       "      <td>False</td>\n",
       "      <td>2017-04-14T04:00:00</td>\n",
       "      <td>36.84</td>\n",
       "      <td>159.63</td>\n",
       "      <td>196.47</td>\n",
       "      <td>None</td>\n",
       "    </tr>\n",
       "    <tr>\n",
       "      <th>4</th>\n",
       "      <td>LL-I-17438410</td>\n",
       "      <td>c9448f6494e012f94d8aef9a9bb10534</td>\n",
       "      <td>B</td>\n",
       "      <td>475.0</td>\n",
       "      <td>2017-02-20T17:02:28.419000</td>\n",
       "      <td>True</td>\n",
       "      <td>0</td>\n",
       "      <td>True</td>\n",
       "      <td>1</td>\n",
       "      <td>1000</td>\n",
       "      <td>...</td>\n",
       "      <td>lead</td>\n",
       "      <td>40</td>\n",
       "      <td>1</td>\n",
       "      <td>5</td>\n",
       "      <td>False</td>\n",
       "      <td>2017-04-28T04:00:00</td>\n",
       "      <td>43.56</td>\n",
       "      <td>152.91</td>\n",
       "      <td>196.47</td>\n",
       "      <td>None</td>\n",
       "    </tr>\n",
       "  </tbody>\n",
       "</table>\n",
       "<p>5 rows × 22 columns</p>\n",
       "</div>"
      ],
      "text/plain": [
       "          loanId                          anon_ssn payFrequency    apr  \\\n",
       "0  LL-I-17438410  c9448f6494e012f94d8aef9a9bb10534            B  475.0   \n",
       "1  LL-I-17438410  c9448f6494e012f94d8aef9a9bb10534            B  475.0   \n",
       "2  LL-I-17438410  c9448f6494e012f94d8aef9a9bb10534            B  475.0   \n",
       "3  LL-I-17438410  c9448f6494e012f94d8aef9a9bb10534            B  475.0   \n",
       "4  LL-I-17438410  c9448f6494e012f94d8aef9a9bb10534            B  475.0   \n",
       "\n",
       "              applicationDate  originated  nPaidOff  approved  isFunded  \\\n",
       "0  2017-02-20T17:02:28.419000        True         0      True         1   \n",
       "1  2017-02-20T17:02:28.419000        True         0      True         1   \n",
       "2  2017-02-20T17:02:28.419000        True         0      True         1   \n",
       "3  2017-02-20T17:02:28.419000        True         0      True         1   \n",
       "4  2017-02-20T17:02:28.419000        True         0      True         1   \n",
       "\n",
       "   loanAmount  ...  leadType leadCost hasCF  installmentIndex  isCollection  \\\n",
       "0        1000  ...      lead       40     1                 1         False   \n",
       "1        1000  ...      lead       40     1                 2         False   \n",
       "2        1000  ...      lead       40     1                 3         False   \n",
       "3        1000  ...      lead       40     1                 4         False   \n",
       "4        1000  ...      lead       40     1                 5         False   \n",
       "\n",
       "           paymentDate  principal    fees  paymentAmount  paymentStatus  \n",
       "0  2017-03-03T05:00:00      66.33  130.14         196.47        Checked  \n",
       "1  2017-03-17T04:00:00      26.36  170.11         196.47        Pending  \n",
       "2  2017-03-31T04:00:00      31.17  165.30         196.47           None  \n",
       "3  2017-04-14T04:00:00      36.84  159.63         196.47           None  \n",
       "4  2017-04-28T04:00:00      43.56  152.91         196.47           None  \n",
       "\n",
       "[5 rows x 22 columns]"
      ]
     },
     "execution_count": 147,
     "metadata": {},
     "output_type": "execute_result"
    }
   ],
   "source": [
    "dff.head()"
   ]
  },
  {
   "cell_type": "code",
   "execution_count": 148,
   "metadata": {},
   "outputs": [],
   "source": [
    "dff = dff.drop('applicationDate',axis='columns')"
   ]
  },
  {
   "cell_type": "code",
   "execution_count": 149,
   "metadata": {},
   "outputs": [],
   "source": [
    "dff = dff.drop('loanId',axis='columns')"
   ]
  },
  {
   "cell_type": "code",
   "execution_count": 150,
   "metadata": {},
   "outputs": [],
   "source": [
    "dff = dff.drop('anon_ssn',axis='columns')"
   ]
  },
  {
   "cell_type": "code",
   "execution_count": 151,
   "metadata": {},
   "outputs": [],
   "source": [
    "dff = dff.drop('paymentDate',axis='columns')"
   ]
  },
  {
   "cell_type": "code",
   "execution_count": 71,
   "metadata": {},
   "outputs": [
    {
     "name": "stdout",
     "output_type": "stream",
     "text": [
      "       payFrequency    apr  originated  nPaidOff  approved  isFunded  \\\n",
      "0                 B  199.0        True       0.0      True         1   \n",
      "1                 B  199.0        True       0.0      True         1   \n",
      "2                 B  199.0        True       0.0      True         1   \n",
      "3                 B  199.0        True       0.0      True         1   \n",
      "4                 B  199.0        True       0.0      True         1   \n",
      "...             ...    ...         ...       ...       ...       ...   \n",
      "571249            W  490.0        True       0.0      True         1   \n",
      "571250            W  490.0        True       0.0      True         1   \n",
      "571251            W  490.0        True       0.0      True         1   \n",
      "571252            W  490.0        True       0.0      True         1   \n",
      "571253            W  490.0        True       0.0      True         1   \n",
      "\n",
      "                 loanStatus  loanAmount  originallyScheduledPaymentAmount  \\\n",
      "0             Paid Off Loan      3000.0                           6395.19   \n",
      "1             Paid Off Loan      3000.0                           6395.19   \n",
      "2             Paid Off Loan      3000.0                           6395.19   \n",
      "3             Paid Off Loan      3000.0                           6395.19   \n",
      "4             Paid Off Loan      3000.0                           6395.19   \n",
      "...                     ...         ...                               ...   \n",
      "571249  External Collection       400.0                           1037.82   \n",
      "571250  External Collection       400.0                           1037.82   \n",
      "571251  External Collection       400.0                           1037.82   \n",
      "571252  External Collection       400.0                           1037.82   \n",
      "571253  External Collection       400.0                           1037.82   \n",
      "\n",
      "       state     leadType  leadCost  hasCF  installmentIndex  isCollection  \\\n",
      "0         CA    prescreen         0      1                 1         False   \n",
      "1         CA    prescreen         0      1                 2         False   \n",
      "2         CA    prescreen         0      1                 3         False   \n",
      "3         CA    prescreen         0      1                 4         False   \n",
      "4         CA    prescreen         0      1                 5         False   \n",
      "...      ...          ...       ...    ...               ...           ...   \n",
      "571249    MO  bvMandatory        10      1                38         False   \n",
      "571250    MO  bvMandatory        10      1                39         False   \n",
      "571251    MO  bvMandatory        10      1                40         False   \n",
      "571252    MO  bvMandatory        10      1                41         False   \n",
      "571253    MO  bvMandatory        10      1                42         False   \n",
      "\n",
      "        principal    fees  paymentAmount paymentStatus  loan_fraud  \n",
      "0          151.98  114.49         266.47       Checked         0.0  \n",
      "1           49.08  217.39         266.47       Checked         0.0  \n",
      "2           52.83  213.64         266.47       Checked         0.0  \n",
      "3           56.86  209.61         266.47       Checked         0.0  \n",
      "4           61.20  205.27         266.47       Checked         0.0  \n",
      "...           ...     ...            ...           ...         ...  \n",
      "571249      30.04   12.99          43.03     Cancelled         NaN  \n",
      "571250      30.04   12.99          43.03          None         NaN  \n",
      "571251      32.87   10.16          43.03     Cancelled         NaN  \n",
      "571252      32.87   10.16          43.03          None         NaN  \n",
      "571253      35.96    7.07          43.03     Cancelled         NaN  \n",
      "\n",
      "[571254 rows x 20 columns]\n"
     ]
    }
   ],
   "source": [
    "# Define a function to map loanStatus to loan fraud column\n",
    "def map_loan_status(status):\n",
    "    normal_statuses = ['Paid Off Loan', 'Charged Off Paid Off', 'Settlement Paid Off']\n",
    "    fraud_statuses = ['Rejected', 'Internal Collection', 'CSR Voided New Loan', 'Customer Voided New Loan', 'Credit Return Void', 'Pending Application Fee', 'Charged Off']\n",
    "    \n",
    "    if status in normal_statuses:\n",
    "        return 0\n",
    "    elif status in fraud_statuses:\n",
    "        return 1\n",
    "    else:\n",
    "        return None  # For other statuses not considered in the classification process\n",
    "\n",
    "# Apply the function to create the new column\n",
    "dff['loan_fraud'] = dff['loanStatus'].apply(map_loan_status)\n",
    "\n",
    "# Display the DataFrame to verify the new column\n",
    "print(dff)\n"
   ]
  },
  {
   "cell_type": "code",
   "execution_count": 152,
   "metadata": {},
   "outputs": [
    {
     "data": {
      "text/plain": [
       "array(['Checked', 'Pending', 'None', 'Rejected', 'Cancelled', 'Skipped'],\n",
       "      dtype=object)"
      ]
     },
     "execution_count": 152,
     "metadata": {},
     "output_type": "execute_result"
    }
   ],
   "source": [
    "dff['paymentStatus'].unique()"
   ]
  },
  {
   "cell_type": "code",
   "execution_count": 153,
   "metadata": {},
   "outputs": [
    {
     "name": "stdout",
     "output_type": "stream",
     "text": [
      "    payFrequency    apr  originated  nPaidOff  approved  isFunded  loanAmount  \\\n",
      "0              B  475.0        True         0      True         1        1000   \n",
      "1              B  475.0        True         0      True         1        1000   \n",
      "2              B  475.0        True         0      True         1        1000   \n",
      "3              B  475.0        True         0      True         1        1000   \n",
      "4              B  475.0        True         0      True         1        1000   \n",
      "..           ...    ...         ...       ...       ...       ...         ...   \n",
      "995            B  645.0        True         0      True         1         600   \n",
      "996            B  645.0        True         0      True         1         600   \n",
      "997            B  645.0        True         0      True         1         600   \n",
      "998            B  645.0        True         0      True         1         600   \n",
      "999            B  645.0        True         0      True         1         600   \n",
      "\n",
      "     originallyScheduledPaymentAmount state leadType  leadCost  hasCF  \\\n",
      "0                             2554.26    MO     lead        40      1   \n",
      "1                             2554.26    MO     lead        40      1   \n",
      "2                             2554.26    MO     lead        40      1   \n",
      "3                             2554.26    MO     lead        40      1   \n",
      "4                             2554.26    MO     lead        40      1   \n",
      "..                                ...   ...      ...       ...    ...   \n",
      "995                           1958.20    CT     lead         6      1   \n",
      "996                           1958.20    CT     lead         6      1   \n",
      "997                           1958.20    CT     lead         6      1   \n",
      "998                           1958.20    CT     lead         6      1   \n",
      "999                           1958.20    CT     lead         6      1   \n",
      "\n",
      "     installmentIndex  isCollection  principal    fees  paymentAmount  \\\n",
      "0                   1         False      66.33  130.14         196.47   \n",
      "1                   2         False      26.36  170.11         196.47   \n",
      "2                   3         False      31.17  165.30         196.47   \n",
      "3                   4         False      36.84  159.63         196.47   \n",
      "4                   5         False      43.56  152.91         196.47   \n",
      "..                ...           ...        ...     ...            ...   \n",
      "995                 7         False      32.06  118.58         150.64   \n",
      "996                 8         False      39.99  110.65         150.64   \n",
      "997                 9         False      49.89  100.75         150.64   \n",
      "998                10         False      62.23   88.41         150.64   \n",
      "999                11         False      77.63   73.01         150.64   \n",
      "\n",
      "     paymentStatus  \n",
      "0                3  \n",
      "1                1  \n",
      "2               -1  \n",
      "3               -1  \n",
      "4               -1  \n",
      "..             ...  \n",
      "995              0  \n",
      "996              0  \n",
      "997              0  \n",
      "998              0  \n",
      "999              0  \n",
      "\n",
      "[1000 rows x 18 columns]\n"
     ]
    }
   ],
   "source": [
    "# Define a dictionary mapping paymentStatus to integers\n",
    "payment_status_mapping = {\n",
    "    'Checked': 3,\n",
    "    'Cancelled': 0,\n",
    "    'Pending': 1,\n",
    "    'None': -1,\n",
    "    'Rejected': -2,\n",
    "    'Skipped': -3,\n",
    "    'Rejected Awaiting Retry': -5,\n",
    "    'Returned': -6,\n",
    "    'Complete': 4\n",
    "}\n",
    "\n",
    "# Apply the mapping to the paymentStatus column\n",
    "dff['paymentStatus'] = dff['paymentStatus'].map(payment_status_mapping).fillna(dff['paymentStatus'])\n",
    "\n",
    "# Display the DataFrame to verify the changes\n",
    "print(dff)\n"
   ]
  },
  {
   "cell_type": "code",
   "execution_count": 154,
   "metadata": {},
   "outputs": [
    {
     "name": "stdout",
     "output_type": "stream",
     "text": [
      "    payFrequency    apr  originated  nPaidOff  approved  isFunded  loanAmount  \\\n",
      "0              B  475.0        True         0      True         1        1000   \n",
      "1              B  475.0        True         0      True         1        1000   \n",
      "2              B  475.0        True         0      True         1        1000   \n",
      "3              B  475.0        True         0      True         1        1000   \n",
      "4              B  475.0        True         0      True         1        1000   \n",
      "..           ...    ...         ...       ...       ...       ...         ...   \n",
      "995            B  645.0        True         0      True         1         600   \n",
      "996            B  645.0        True         0      True         1         600   \n",
      "997            B  645.0        True         0      True         1         600   \n",
      "998            B  645.0        True         0      True         1         600   \n",
      "999            B  645.0        True         0      True         1         600   \n",
      "\n",
      "     originallyScheduledPaymentAmount state leadType  leadCost  hasCF  \\\n",
      "0                             2554.26    MO     lead        40      1   \n",
      "1                             2554.26    MO     lead        40      1   \n",
      "2                             2554.26    MO     lead        40      1   \n",
      "3                             2554.26    MO     lead        40      1   \n",
      "4                             2554.26    MO     lead        40      1   \n",
      "..                                ...   ...      ...       ...    ...   \n",
      "995                           1958.20    CT     lead         6      1   \n",
      "996                           1958.20    CT     lead         6      1   \n",
      "997                           1958.20    CT     lead         6      1   \n",
      "998                           1958.20    CT     lead         6      1   \n",
      "999                           1958.20    CT     lead         6      1   \n",
      "\n",
      "     installmentIndex  isCollection  principal    fees  paymentAmount  \\\n",
      "0                   1             0      66.33  130.14         196.47   \n",
      "1                   2             0      26.36  170.11         196.47   \n",
      "2                   3             0      31.17  165.30         196.47   \n",
      "3                   4             0      36.84  159.63         196.47   \n",
      "4                   5             0      43.56  152.91         196.47   \n",
      "..                ...           ...        ...     ...            ...   \n",
      "995                 7             0      32.06  118.58         150.64   \n",
      "996                 8             0      39.99  110.65         150.64   \n",
      "997                 9             0      49.89  100.75         150.64   \n",
      "998                10             0      62.23   88.41         150.64   \n",
      "999                11             0      77.63   73.01         150.64   \n",
      "\n",
      "     paymentStatus  \n",
      "0                3  \n",
      "1                1  \n",
      "2               -1  \n",
      "3               -1  \n",
      "4               -1  \n",
      "..             ...  \n",
      "995              0  \n",
      "996              0  \n",
      "997              0  \n",
      "998              0  \n",
      "999              0  \n",
      "\n",
      "[1000 rows x 18 columns]\n"
     ]
    }
   ],
   "source": [
    "# Convert boolean values to integers\n",
    "dff['isCollection'] = dff['isCollection'].astype(int)\n",
    "\n",
    "# Display the DataFrame to verify the changes\n",
    "print(dff)\n"
   ]
  },
  {
   "cell_type": "code",
   "execution_count": 155,
   "metadata": {},
   "outputs": [
    {
     "name": "stdout",
     "output_type": "stream",
     "text": [
      "    payFrequency    apr  originated  nPaidOff  approved  isFunded  loanAmount  \\\n",
      "0              B  475.0           1         0      True         1        1000   \n",
      "1              B  475.0           1         0      True         1        1000   \n",
      "2              B  475.0           1         0      True         1        1000   \n",
      "3              B  475.0           1         0      True         1        1000   \n",
      "4              B  475.0           1         0      True         1        1000   \n",
      "..           ...    ...         ...       ...       ...       ...         ...   \n",
      "995            B  645.0           1         0      True         1         600   \n",
      "996            B  645.0           1         0      True         1         600   \n",
      "997            B  645.0           1         0      True         1         600   \n",
      "998            B  645.0           1         0      True         1         600   \n",
      "999            B  645.0           1         0      True         1         600   \n",
      "\n",
      "     originallyScheduledPaymentAmount state leadType  leadCost  hasCF  \\\n",
      "0                             2554.26    MO     lead        40      1   \n",
      "1                             2554.26    MO     lead        40      1   \n",
      "2                             2554.26    MO     lead        40      1   \n",
      "3                             2554.26    MO     lead        40      1   \n",
      "4                             2554.26    MO     lead        40      1   \n",
      "..                                ...   ...      ...       ...    ...   \n",
      "995                           1958.20    CT     lead         6      1   \n",
      "996                           1958.20    CT     lead         6      1   \n",
      "997                           1958.20    CT     lead         6      1   \n",
      "998                           1958.20    CT     lead         6      1   \n",
      "999                           1958.20    CT     lead         6      1   \n",
      "\n",
      "     installmentIndex  isCollection  principal    fees  paymentAmount  \\\n",
      "0                   1             0      66.33  130.14         196.47   \n",
      "1                   2             0      26.36  170.11         196.47   \n",
      "2                   3             0      31.17  165.30         196.47   \n",
      "3                   4             0      36.84  159.63         196.47   \n",
      "4                   5             0      43.56  152.91         196.47   \n",
      "..                ...           ...        ...     ...            ...   \n",
      "995                 7             0      32.06  118.58         150.64   \n",
      "996                 8             0      39.99  110.65         150.64   \n",
      "997                 9             0      49.89  100.75         150.64   \n",
      "998                10             0      62.23   88.41         150.64   \n",
      "999                11             0      77.63   73.01         150.64   \n",
      "\n",
      "     paymentStatus  \n",
      "0                3  \n",
      "1                1  \n",
      "2               -1  \n",
      "3               -1  \n",
      "4               -1  \n",
      "..             ...  \n",
      "995              0  \n",
      "996              0  \n",
      "997              0  \n",
      "998              0  \n",
      "999              0  \n",
      "\n",
      "[1000 rows x 18 columns]\n"
     ]
    }
   ],
   "source": [
    "# Convert boolean values to integers\n",
    "dff['originated'] = dff['originated'].astype(int)\n",
    "\n",
    "# Display the DataFrame to verify the changes\n",
    "print(dff)\n"
   ]
  },
  {
   "cell_type": "code",
   "execution_count": 156,
   "metadata": {},
   "outputs": [
    {
     "name": "stdout",
     "output_type": "stream",
     "text": [
      "    payFrequency    apr  originated  nPaidOff  approved  isFunded  loanAmount  \\\n",
      "0              B  475.0           1         0         1         1        1000   \n",
      "1              B  475.0           1         0         1         1        1000   \n",
      "2              B  475.0           1         0         1         1        1000   \n",
      "3              B  475.0           1         0         1         1        1000   \n",
      "4              B  475.0           1         0         1         1        1000   \n",
      "..           ...    ...         ...       ...       ...       ...         ...   \n",
      "995            B  645.0           1         0         1         1         600   \n",
      "996            B  645.0           1         0         1         1         600   \n",
      "997            B  645.0           1         0         1         1         600   \n",
      "998            B  645.0           1         0         1         1         600   \n",
      "999            B  645.0           1         0         1         1         600   \n",
      "\n",
      "     originallyScheduledPaymentAmount state leadType  leadCost  hasCF  \\\n",
      "0                             2554.26    MO     lead        40      1   \n",
      "1                             2554.26    MO     lead        40      1   \n",
      "2                             2554.26    MO     lead        40      1   \n",
      "3                             2554.26    MO     lead        40      1   \n",
      "4                             2554.26    MO     lead        40      1   \n",
      "..                                ...   ...      ...       ...    ...   \n",
      "995                           1958.20    CT     lead         6      1   \n",
      "996                           1958.20    CT     lead         6      1   \n",
      "997                           1958.20    CT     lead         6      1   \n",
      "998                           1958.20    CT     lead         6      1   \n",
      "999                           1958.20    CT     lead         6      1   \n",
      "\n",
      "     installmentIndex  isCollection  principal    fees  paymentAmount  \\\n",
      "0                   1             0      66.33  130.14         196.47   \n",
      "1                   2             0      26.36  170.11         196.47   \n",
      "2                   3             0      31.17  165.30         196.47   \n",
      "3                   4             0      36.84  159.63         196.47   \n",
      "4                   5             0      43.56  152.91         196.47   \n",
      "..                ...           ...        ...     ...            ...   \n",
      "995                 7             0      32.06  118.58         150.64   \n",
      "996                 8             0      39.99  110.65         150.64   \n",
      "997                 9             0      49.89  100.75         150.64   \n",
      "998                10             0      62.23   88.41         150.64   \n",
      "999                11             0      77.63   73.01         150.64   \n",
      "\n",
      "     paymentStatus  \n",
      "0                3  \n",
      "1                1  \n",
      "2               -1  \n",
      "3               -1  \n",
      "4               -1  \n",
      "..             ...  \n",
      "995              0  \n",
      "996              0  \n",
      "997              0  \n",
      "998              0  \n",
      "999              0  \n",
      "\n",
      "[1000 rows x 18 columns]\n"
     ]
    }
   ],
   "source": [
    "# Convert boolean values to integers\n",
    "dff['approved'] = dff['approved'].astype(int)\n",
    "\n",
    "# Display the DataFrame to verify the changes\n",
    "print(dff)"
   ]
  },
  {
   "cell_type": "code",
   "execution_count": 157,
   "metadata": {},
   "outputs": [
    {
     "ename": "KeyError",
     "evalue": "\"['loanStatus'] not found in axis\"",
     "output_type": "error",
     "traceback": [
      "\u001b[1;31m---------------------------------------------------------------------------\u001b[0m",
      "\u001b[1;31mKeyError\u001b[0m                                  Traceback (most recent call last)",
      "\u001b[1;32m<ipython-input-157-c63f2a377f50>\u001b[0m in \u001b[0;36m<module>\u001b[1;34m\u001b[0m\n\u001b[1;32m----> 1\u001b[1;33m \u001b[0mdff\u001b[0m \u001b[1;33m=\u001b[0m \u001b[0mdff\u001b[0m\u001b[1;33m.\u001b[0m\u001b[0mdrop\u001b[0m\u001b[1;33m(\u001b[0m\u001b[1;34m'loanStatus'\u001b[0m\u001b[1;33m,\u001b[0m\u001b[0maxis\u001b[0m\u001b[1;33m=\u001b[0m\u001b[1;34m'columns'\u001b[0m\u001b[1;33m)\u001b[0m\u001b[1;33m\u001b[0m\u001b[1;33m\u001b[0m\u001b[0m\n\u001b[0m",
      "\u001b[1;32mD:\\anaconda\\lib\\site-packages\\pandas\\core\\frame.py\u001b[0m in \u001b[0;36mdrop\u001b[1;34m(self, labels, axis, index, columns, level, inplace, errors)\u001b[0m\n\u001b[0;32m   4161\u001b[0m                 \u001b[0mweight\u001b[0m  \u001b[1;36m1.0\u001b[0m     \u001b[1;36m0.8\u001b[0m\u001b[1;33m\u001b[0m\u001b[1;33m\u001b[0m\u001b[0m\n\u001b[0;32m   4162\u001b[0m         \"\"\"\n\u001b[1;32m-> 4163\u001b[1;33m         return super().drop(\n\u001b[0m\u001b[0;32m   4164\u001b[0m             \u001b[0mlabels\u001b[0m\u001b[1;33m=\u001b[0m\u001b[0mlabels\u001b[0m\u001b[1;33m,\u001b[0m\u001b[1;33m\u001b[0m\u001b[1;33m\u001b[0m\u001b[0m\n\u001b[0;32m   4165\u001b[0m             \u001b[0maxis\u001b[0m\u001b[1;33m=\u001b[0m\u001b[0maxis\u001b[0m\u001b[1;33m,\u001b[0m\u001b[1;33m\u001b[0m\u001b[1;33m\u001b[0m\u001b[0m\n",
      "\u001b[1;32mD:\\anaconda\\lib\\site-packages\\pandas\\core\\generic.py\u001b[0m in \u001b[0;36mdrop\u001b[1;34m(self, labels, axis, index, columns, level, inplace, errors)\u001b[0m\n\u001b[0;32m   3885\u001b[0m         \u001b[1;32mfor\u001b[0m \u001b[0maxis\u001b[0m\u001b[1;33m,\u001b[0m \u001b[0mlabels\u001b[0m \u001b[1;32min\u001b[0m \u001b[0maxes\u001b[0m\u001b[1;33m.\u001b[0m\u001b[0mitems\u001b[0m\u001b[1;33m(\u001b[0m\u001b[1;33m)\u001b[0m\u001b[1;33m:\u001b[0m\u001b[1;33m\u001b[0m\u001b[1;33m\u001b[0m\u001b[0m\n\u001b[0;32m   3886\u001b[0m             \u001b[1;32mif\u001b[0m \u001b[0mlabels\u001b[0m \u001b[1;32mis\u001b[0m \u001b[1;32mnot\u001b[0m \u001b[1;32mNone\u001b[0m\u001b[1;33m:\u001b[0m\u001b[1;33m\u001b[0m\u001b[1;33m\u001b[0m\u001b[0m\n\u001b[1;32m-> 3887\u001b[1;33m                 \u001b[0mobj\u001b[0m \u001b[1;33m=\u001b[0m \u001b[0mobj\u001b[0m\u001b[1;33m.\u001b[0m\u001b[0m_drop_axis\u001b[0m\u001b[1;33m(\u001b[0m\u001b[0mlabels\u001b[0m\u001b[1;33m,\u001b[0m \u001b[0maxis\u001b[0m\u001b[1;33m,\u001b[0m \u001b[0mlevel\u001b[0m\u001b[1;33m=\u001b[0m\u001b[0mlevel\u001b[0m\u001b[1;33m,\u001b[0m \u001b[0merrors\u001b[0m\u001b[1;33m=\u001b[0m\u001b[0merrors\u001b[0m\u001b[1;33m)\u001b[0m\u001b[1;33m\u001b[0m\u001b[1;33m\u001b[0m\u001b[0m\n\u001b[0m\u001b[0;32m   3888\u001b[0m \u001b[1;33m\u001b[0m\u001b[0m\n\u001b[0;32m   3889\u001b[0m         \u001b[1;32mif\u001b[0m \u001b[0minplace\u001b[0m\u001b[1;33m:\u001b[0m\u001b[1;33m\u001b[0m\u001b[1;33m\u001b[0m\u001b[0m\n",
      "\u001b[1;32mD:\\anaconda\\lib\\site-packages\\pandas\\core\\generic.py\u001b[0m in \u001b[0;36m_drop_axis\u001b[1;34m(self, labels, axis, level, errors)\u001b[0m\n\u001b[0;32m   3919\u001b[0m                 \u001b[0mnew_axis\u001b[0m \u001b[1;33m=\u001b[0m \u001b[0maxis\u001b[0m\u001b[1;33m.\u001b[0m\u001b[0mdrop\u001b[0m\u001b[1;33m(\u001b[0m\u001b[0mlabels\u001b[0m\u001b[1;33m,\u001b[0m \u001b[0mlevel\u001b[0m\u001b[1;33m=\u001b[0m\u001b[0mlevel\u001b[0m\u001b[1;33m,\u001b[0m \u001b[0merrors\u001b[0m\u001b[1;33m=\u001b[0m\u001b[0merrors\u001b[0m\u001b[1;33m)\u001b[0m\u001b[1;33m\u001b[0m\u001b[1;33m\u001b[0m\u001b[0m\n\u001b[0;32m   3920\u001b[0m             \u001b[1;32melse\u001b[0m\u001b[1;33m:\u001b[0m\u001b[1;33m\u001b[0m\u001b[1;33m\u001b[0m\u001b[0m\n\u001b[1;32m-> 3921\u001b[1;33m                 \u001b[0mnew_axis\u001b[0m \u001b[1;33m=\u001b[0m \u001b[0maxis\u001b[0m\u001b[1;33m.\u001b[0m\u001b[0mdrop\u001b[0m\u001b[1;33m(\u001b[0m\u001b[0mlabels\u001b[0m\u001b[1;33m,\u001b[0m \u001b[0merrors\u001b[0m\u001b[1;33m=\u001b[0m\u001b[0merrors\u001b[0m\u001b[1;33m)\u001b[0m\u001b[1;33m\u001b[0m\u001b[1;33m\u001b[0m\u001b[0m\n\u001b[0m\u001b[0;32m   3922\u001b[0m             \u001b[0mresult\u001b[0m \u001b[1;33m=\u001b[0m \u001b[0mself\u001b[0m\u001b[1;33m.\u001b[0m\u001b[0mreindex\u001b[0m\u001b[1;33m(\u001b[0m\u001b[1;33m**\u001b[0m\u001b[1;33m{\u001b[0m\u001b[0maxis_name\u001b[0m\u001b[1;33m:\u001b[0m \u001b[0mnew_axis\u001b[0m\u001b[1;33m}\u001b[0m\u001b[1;33m)\u001b[0m\u001b[1;33m\u001b[0m\u001b[1;33m\u001b[0m\u001b[0m\n\u001b[0;32m   3923\u001b[0m \u001b[1;33m\u001b[0m\u001b[0m\n",
      "\u001b[1;32mD:\\anaconda\\lib\\site-packages\\pandas\\core\\indexes\\base.py\u001b[0m in \u001b[0;36mdrop\u001b[1;34m(self, labels, errors)\u001b[0m\n\u001b[0;32m   5280\u001b[0m         \u001b[1;32mif\u001b[0m \u001b[0mmask\u001b[0m\u001b[1;33m.\u001b[0m\u001b[0many\u001b[0m\u001b[1;33m(\u001b[0m\u001b[1;33m)\u001b[0m\u001b[1;33m:\u001b[0m\u001b[1;33m\u001b[0m\u001b[1;33m\u001b[0m\u001b[0m\n\u001b[0;32m   5281\u001b[0m             \u001b[1;32mif\u001b[0m \u001b[0merrors\u001b[0m \u001b[1;33m!=\u001b[0m \u001b[1;34m\"ignore\"\u001b[0m\u001b[1;33m:\u001b[0m\u001b[1;33m\u001b[0m\u001b[1;33m\u001b[0m\u001b[0m\n\u001b[1;32m-> 5282\u001b[1;33m                 \u001b[1;32mraise\u001b[0m \u001b[0mKeyError\u001b[0m\u001b[1;33m(\u001b[0m\u001b[1;34mf\"{labels[mask]} not found in axis\"\u001b[0m\u001b[1;33m)\u001b[0m\u001b[1;33m\u001b[0m\u001b[1;33m\u001b[0m\u001b[0m\n\u001b[0m\u001b[0;32m   5283\u001b[0m             \u001b[0mindexer\u001b[0m \u001b[1;33m=\u001b[0m \u001b[0mindexer\u001b[0m\u001b[1;33m[\u001b[0m\u001b[1;33m~\u001b[0m\u001b[0mmask\u001b[0m\u001b[1;33m]\u001b[0m\u001b[1;33m\u001b[0m\u001b[1;33m\u001b[0m\u001b[0m\n\u001b[0;32m   5284\u001b[0m         \u001b[1;32mreturn\u001b[0m \u001b[0mself\u001b[0m\u001b[1;33m.\u001b[0m\u001b[0mdelete\u001b[0m\u001b[1;33m(\u001b[0m\u001b[0mindexer\u001b[0m\u001b[1;33m)\u001b[0m\u001b[1;33m\u001b[0m\u001b[1;33m\u001b[0m\u001b[0m\n",
      "\u001b[1;31mKeyError\u001b[0m: \"['loanStatus'] not found in axis\""
     ]
    }
   ],
   "source": [
    "dff = dff.drop('loanStatus',axis='columns')"
   ]
  },
  {
   "cell_type": "code",
   "execution_count": 158,
   "metadata": {},
   "outputs": [
    {
     "data": {
      "text/plain": [
       "array(['lead', 'bvMandatory', 'organic', 'rc_returning', 'prescreen'],\n",
       "      dtype=object)"
      ]
     },
     "execution_count": 158,
     "metadata": {},
     "output_type": "execute_result"
    }
   ],
   "source": [
    "dff['leadType'].unique()"
   ]
  },
  {
   "cell_type": "code",
   "execution_count": 159,
   "metadata": {},
   "outputs": [
    {
     "name": "stdout",
     "output_type": "stream",
     "text": [
      "    payFrequency    apr  originated  nPaidOff  approved  isFunded  loanAmount  \\\n",
      "0              B  475.0           1         0         1         1        1000   \n",
      "1              B  475.0           1         0         1         1        1000   \n",
      "2              B  475.0           1         0         1         1        1000   \n",
      "3              B  475.0           1         0         1         1        1000   \n",
      "4              B  475.0           1         0         1         1        1000   \n",
      "..           ...    ...         ...       ...       ...       ...         ...   \n",
      "995            B  645.0           1         0         1         1         600   \n",
      "996            B  645.0           1         0         1         1         600   \n",
      "997            B  645.0           1         0         1         1         600   \n",
      "998            B  645.0           1         0         1         1         600   \n",
      "999            B  645.0           1         0         1         1         600   \n",
      "\n",
      "     originallyScheduledPaymentAmount state  leadType  leadCost  hasCF  \\\n",
      "0                             2554.26    MO         3        40      1   \n",
      "1                             2554.26    MO         3        40      1   \n",
      "2                             2554.26    MO         3        40      1   \n",
      "3                             2554.26    MO         3        40      1   \n",
      "4                             2554.26    MO         3        40      1   \n",
      "..                                ...   ...       ...       ...    ...   \n",
      "995                           1958.20    CT         3         6      1   \n",
      "996                           1958.20    CT         3         6      1   \n",
      "997                           1958.20    CT         3         6      1   \n",
      "998                           1958.20    CT         3         6      1   \n",
      "999                           1958.20    CT         3         6      1   \n",
      "\n",
      "     installmentIndex  isCollection  principal    fees  paymentAmount  \\\n",
      "0                   1             0      66.33  130.14         196.47   \n",
      "1                   2             0      26.36  170.11         196.47   \n",
      "2                   3             0      31.17  165.30         196.47   \n",
      "3                   4             0      36.84  159.63         196.47   \n",
      "4                   5             0      43.56  152.91         196.47   \n",
      "..                ...           ...        ...     ...            ...   \n",
      "995                 7             0      32.06  118.58         150.64   \n",
      "996                 8             0      39.99  110.65         150.64   \n",
      "997                 9             0      49.89  100.75         150.64   \n",
      "998                10             0      62.23   88.41         150.64   \n",
      "999                11             0      77.63   73.01         150.64   \n",
      "\n",
      "     paymentStatus  \n",
      "0                3  \n",
      "1                1  \n",
      "2               -1  \n",
      "3               -1  \n",
      "4               -1  \n",
      "..             ...  \n",
      "995              0  \n",
      "996              0  \n",
      "997              0  \n",
      "998              0  \n",
      "999              0  \n",
      "\n",
      "[1000 rows x 18 columns]\n"
     ]
    }
   ],
   "source": [
    "# Define a dictionary mapping each unique value in leadType to integers\n",
    "lead_type_mapping = {\n",
    "    'prescreen': 1,\n",
    "    'organic': 2,\n",
    "    'lead': 3,\n",
    "    'bvMandatory': 4,\n",
    "    'rc_returning': 5,\n",
    "    'california': 6,\n",
    "    'instant-offer': 7,\n",
    "    'express': 8,\n",
    "    'repeat': 9,\n",
    "    'lionpay': 10\n",
    "}\n",
    "\n",
    "# Apply the mapping to the leadType column\n",
    "dff['leadType'] = dff['leadType'].map(lead_type_mapping)\n",
    "\n",
    "# Display the DataFrame to verify the changes\n",
    "print(dff)\n"
   ]
  },
  {
   "cell_type": "code",
   "execution_count": 117,
   "metadata": {},
   "outputs": [
    {
     "data": {
      "text/plain": [
       "array(['MO', 'NC', 'OH', 'WI', 'MI', 'TX', 'PA', 'VA', 'SC', 'WA', 'IN',\n",
       "       'NJ', 'NV', 'FL', 'IL', 'CA', 'UT', 'KY', 'CO', 'AZ', 'CT'],\n",
       "      dtype=object)"
      ]
     },
     "execution_count": 117,
     "metadata": {},
     "output_type": "execute_result"
    }
   ],
   "source": [
    "dff['state'].unique()"
   ]
  },
  {
   "cell_type": "code",
   "execution_count": 160,
   "metadata": {},
   "outputs": [
    {
     "name": "stdout",
     "output_type": "stream",
     "text": [
      "    payFrequency    apr  originated  nPaidOff  approved  isFunded  loanAmount  \\\n",
      "0              B  475.0           1         0         1         1        1000   \n",
      "1              B  475.0           1         0         1         1        1000   \n",
      "2              B  475.0           1         0         1         1        1000   \n",
      "3              B  475.0           1         0         1         1        1000   \n",
      "4              B  475.0           1         0         1         1        1000   \n",
      "..           ...    ...         ...       ...       ...       ...         ...   \n",
      "995            B  645.0           1         0         1         1         600   \n",
      "996            B  645.0           1         0         1         1         600   \n",
      "997            B  645.0           1         0         1         1         600   \n",
      "998            B  645.0           1         0         1         1         600   \n",
      "999            B  645.0           1         0         1         1         600   \n",
      "\n",
      "     originallyScheduledPaymentAmount  state  leadType  leadCost  hasCF  \\\n",
      "0                             2554.26      2         3        40      1   \n",
      "1                             2554.26      2         3        40      1   \n",
      "2                             2554.26      2         3        40      1   \n",
      "3                             2554.26      2         3        40      1   \n",
      "4                             2554.26      2         3        40      1   \n",
      "..                                ...    ...       ...       ...    ...   \n",
      "995                           1958.20     32         3         6      1   \n",
      "996                           1958.20     32         3         6      1   \n",
      "997                           1958.20     32         3         6      1   \n",
      "998                           1958.20     32         3         6      1   \n",
      "999                           1958.20     32         3         6      1   \n",
      "\n",
      "     installmentIndex  isCollection  principal    fees  paymentAmount  \\\n",
      "0                   1             0      66.33  130.14         196.47   \n",
      "1                   2             0      26.36  170.11         196.47   \n",
      "2                   3             0      31.17  165.30         196.47   \n",
      "3                   4             0      36.84  159.63         196.47   \n",
      "4                   5             0      43.56  152.91         196.47   \n",
      "..                ...           ...        ...     ...            ...   \n",
      "995                 7             0      32.06  118.58         150.64   \n",
      "996                 8             0      39.99  110.65         150.64   \n",
      "997                 9             0      49.89  100.75         150.64   \n",
      "998                10             0      62.23   88.41         150.64   \n",
      "999                11             0      77.63   73.01         150.64   \n",
      "\n",
      "     paymentStatus  \n",
      "0                3  \n",
      "1                1  \n",
      "2               -1  \n",
      "3               -1  \n",
      "4               -1  \n",
      "..             ...  \n",
      "995              0  \n",
      "996              0  \n",
      "997              0  \n",
      "998              0  \n",
      "999              0  \n",
      "\n",
      "[1000 rows x 18 columns]\n"
     ]
    }
   ],
   "source": [
    "# Define a dictionary mapping each state abbreviation to an integer\n",
    "state_mapping = {\n",
    "    'CA': 1, 'MO': 2, 'NJ': 3, 'WI': 4, 'IL': 5, 'MI': 6, 'FL': 7, 'SC': 8, 'OH': 9, 'NV': 10,\n",
    "    'IN': 11, 'VA': 12, 'TN': 13, 'OK': 14, 'NC': 15, 'TX': 16, 'PA': 17, 'HI': 18, 'MS': 19, 'KY': 20,\n",
    "    'AL': 21, 'GA': 22, 'NM': 23, 'ID': 24, 'ND': 25, 'AZ': 26, 'CO': 27, 'NE': 28, 'SD': 29, 'MN': 30,\n",
    "    'LA': 31, 'CT': 32, 'WY': 33, 'KS': 34, 'DE': 35, 'WA': 36, 'UT': 37, 'RI': 38, 'IA': 39, 'AK': 40,\n",
    "    'MD': 41\n",
    "}\n",
    "\n",
    "# Apply the mapping to the state column\n",
    "dff['state'] = dff['state'].map(state_mapping)\n",
    "\n",
    "# Display the DataFrame to verify the changes\n",
    "print(dff)\n"
   ]
  },
  {
   "cell_type": "code",
   "execution_count": 119,
   "metadata": {},
   "outputs": [
    {
     "name": "stdout",
     "output_type": "stream",
     "text": [
      "  payFrequency    apr  originated              originatedDate  nPaidOff  \\\n",
      "0            B  475.0           1  2017-02-20T17:15:05.712000         0   \n",
      "1            B  475.0           1  2017-02-20T17:15:05.712000         0   \n",
      "2            B  475.0           1  2017-02-20T17:15:05.712000         0   \n",
      "3            B  475.0           1  2017-02-20T17:15:05.712000         0   \n",
      "4            B  475.0           1  2017-02-20T17:15:05.712000         0   \n",
      "\n",
      "   approved  isFunded  loanAmount  originallyScheduledPaymentAmount  state  \\\n",
      "0         1         1        1000                           2554.26      2   \n",
      "1         1         1        1000                           2554.26      2   \n",
      "2         1         1        1000                           2554.26      2   \n",
      "3         1         1        1000                           2554.26      2   \n",
      "4         1         1        1000                           2554.26      2   \n",
      "\n",
      "   leadType  leadCost fpStatus            clarityFraudId  hasCF  \n",
      "0         3        40  Checked  58ab2121e4b0bf80497352a1      1  \n",
      "1         3        40  Checked  58ab2121e4b0bf80497352a1      1  \n",
      "2         3        40  Checked  58ab2121e4b0bf80497352a1      1  \n",
      "3         3        40  Checked  58ab2121e4b0bf80497352a1      1  \n",
      "4         3        40  Checked  58ab2121e4b0bf80497352a1      1  \n"
     ]
    }
   ],
   "source": [
    "print( dff.iloc[:5, :15])"
   ]
  },
  {
   "cell_type": "code",
   "execution_count": 120,
   "metadata": {},
   "outputs": [
    {
     "data": {
      "text/plain": [
       "array(['B', 'W', 'S', 'M', 'I'], dtype=object)"
      ]
     },
     "execution_count": 120,
     "metadata": {},
     "output_type": "execute_result"
    }
   ],
   "source": [
    "dff['payFrequency'].unique()"
   ]
  },
  {
   "cell_type": "code",
   "execution_count": 161,
   "metadata": {},
   "outputs": [
    {
     "name": "stdout",
     "output_type": "stream",
     "text": [
      "     payFrequency    apr  originated  nPaidOff  approved  isFunded  \\\n",
      "0               1  475.0           1         0         1         1   \n",
      "1               1  475.0           1         0         1         1   \n",
      "2               1  475.0           1         0         1         1   \n",
      "3               1  475.0           1         0         1         1   \n",
      "4               1  475.0           1         0         1         1   \n",
      "..            ...    ...         ...       ...       ...       ...   \n",
      "995             1  645.0           1         0         1         1   \n",
      "996             1  645.0           1         0         1         1   \n",
      "997             1  645.0           1         0         1         1   \n",
      "998             1  645.0           1         0         1         1   \n",
      "999             1  645.0           1         0         1         1   \n",
      "\n",
      "     loanAmount  originallyScheduledPaymentAmount  state  leadType  leadCost  \\\n",
      "0          1000                           2554.26      2         3        40   \n",
      "1          1000                           2554.26      2         3        40   \n",
      "2          1000                           2554.26      2         3        40   \n",
      "3          1000                           2554.26      2         3        40   \n",
      "4          1000                           2554.26      2         3        40   \n",
      "..          ...                               ...    ...       ...       ...   \n",
      "995         600                           1958.20     32         3         6   \n",
      "996         600                           1958.20     32         3         6   \n",
      "997         600                           1958.20     32         3         6   \n",
      "998         600                           1958.20     32         3         6   \n",
      "999         600                           1958.20     32         3         6   \n",
      "\n",
      "     hasCF  installmentIndex  isCollection  principal    fees  paymentAmount  \\\n",
      "0        1                 1             0      66.33  130.14         196.47   \n",
      "1        1                 2             0      26.36  170.11         196.47   \n",
      "2        1                 3             0      31.17  165.30         196.47   \n",
      "3        1                 4             0      36.84  159.63         196.47   \n",
      "4        1                 5             0      43.56  152.91         196.47   \n",
      "..     ...               ...           ...        ...     ...            ...   \n",
      "995      1                 7             0      32.06  118.58         150.64   \n",
      "996      1                 8             0      39.99  110.65         150.64   \n",
      "997      1                 9             0      49.89  100.75         150.64   \n",
      "998      1                10             0      62.23   88.41         150.64   \n",
      "999      1                11             0      77.63   73.01         150.64   \n",
      "\n",
      "     paymentStatus  \n",
      "0                3  \n",
      "1                1  \n",
      "2               -1  \n",
      "3               -1  \n",
      "4               -1  \n",
      "..             ...  \n",
      "995              0  \n",
      "996              0  \n",
      "997              0  \n",
      "998              0  \n",
      "999              0  \n",
      "\n",
      "[1000 rows x 18 columns]\n"
     ]
    }
   ],
   "source": [
    "# Define a dictionary mapping each pay frequency abbreviation to an integer\n",
    "pay_frequency_mapping = {\n",
    "    'B': 1,  # Bi-weekly\n",
    "    'W': 2,  # Weekly\n",
    "    'S': 3,  # Semi-monthly\n",
    "    'M': 4,  # Monthly\n",
    "    'I': 5   # Irregular\n",
    "}\n",
    "\n",
    "# Apply the mapping to the payFrequency column\n",
    "dff['payFrequency'] = dff['payFrequency'].map(pay_frequency_mapping)\n",
    "\n",
    "# Display the DataFrame to verify the changes\n",
    "print(dff)\n"
   ]
  },
  {
   "cell_type": "code",
   "execution_count": 162,
   "metadata": {
    "scrolled": false
   },
   "outputs": [
    {
     "name": "stdout",
     "output_type": "stream",
     "text": [
      "payFrequency                        0\n",
      "apr                                 0\n",
      "originated                          0\n",
      "nPaidOff                            0\n",
      "approved                            0\n",
      "isFunded                            0\n",
      "loanAmount                          0\n",
      "originallyScheduledPaymentAmount    0\n",
      "state                               0\n",
      "leadType                            0\n",
      "leadCost                            0\n",
      "hasCF                               0\n",
      "installmentIndex                    0\n",
      "isCollection                        0\n",
      "principal                           0\n",
      "fees                                0\n",
      "paymentAmount                       0\n",
      "paymentStatus                       0\n",
      "dtype: int64\n"
     ]
    },
    {
     "data": {
      "text/plain": [
       "(1000, 18)"
      ]
     },
     "execution_count": 162,
     "metadata": {},
     "output_type": "execute_result"
    }
   ],
   "source": [
    "missing_values = dff.isnull().sum()\n",
    "print(missing_values)\n",
    "dff.shape"
   ]
  },
  {
   "cell_type": "code",
   "execution_count": 123,
   "metadata": {},
   "outputs": [
    {
     "ename": "KeyError",
     "evalue": "['loan_fraud']",
     "output_type": "error",
     "traceback": [
      "\u001b[1;31m---------------------------------------------------------------------------\u001b[0m",
      "\u001b[1;31mKeyError\u001b[0m                                  Traceback (most recent call last)",
      "\u001b[1;32m<ipython-input-123-07f6ec047266>\u001b[0m in \u001b[0;36m<module>\u001b[1;34m\u001b[0m\n\u001b[0;32m      1\u001b[0m \u001b[1;31m# Drop rows with empty loanId\u001b[0m\u001b[1;33m\u001b[0m\u001b[1;33m\u001b[0m\u001b[1;33m\u001b[0m\u001b[0m\n\u001b[1;32m----> 2\u001b[1;33m \u001b[0mdd\u001b[0m \u001b[1;33m=\u001b[0m \u001b[0mdff\u001b[0m\u001b[1;33m.\u001b[0m\u001b[0mdropna\u001b[0m\u001b[1;33m(\u001b[0m\u001b[0msubset\u001b[0m\u001b[1;33m=\u001b[0m\u001b[1;33m[\u001b[0m\u001b[1;34m'loan_fraud'\u001b[0m\u001b[1;33m]\u001b[0m\u001b[1;33m)\u001b[0m\u001b[1;33m\u001b[0m\u001b[1;33m\u001b[0m\u001b[0m\n\u001b[0m\u001b[0;32m      3\u001b[0m \u001b[1;33m\u001b[0m\u001b[0m\n\u001b[0;32m      4\u001b[0m \u001b[1;31m# Reset index\u001b[0m\u001b[1;33m\u001b[0m\u001b[1;33m\u001b[0m\u001b[1;33m\u001b[0m\u001b[0m\n\u001b[0;32m      5\u001b[0m \u001b[0mdd\u001b[0m\u001b[1;33m.\u001b[0m\u001b[0mreset_index\u001b[0m\u001b[1;33m(\u001b[0m\u001b[0mdrop\u001b[0m\u001b[1;33m=\u001b[0m\u001b[1;32mTrue\u001b[0m\u001b[1;33m,\u001b[0m \u001b[0minplace\u001b[0m\u001b[1;33m=\u001b[0m\u001b[1;32mTrue\u001b[0m\u001b[1;33m)\u001b[0m\u001b[1;33m\u001b[0m\u001b[1;33m\u001b[0m\u001b[0m\n",
      "\u001b[1;32mD:\\anaconda\\lib\\site-packages\\pandas\\core\\frame.py\u001b[0m in \u001b[0;36mdropna\u001b[1;34m(self, axis, how, thresh, subset, inplace)\u001b[0m\n\u001b[0;32m   4998\u001b[0m             \u001b[0mcheck\u001b[0m \u001b[1;33m=\u001b[0m \u001b[0mindices\u001b[0m \u001b[1;33m==\u001b[0m \u001b[1;33m-\u001b[0m\u001b[1;36m1\u001b[0m\u001b[1;33m\u001b[0m\u001b[1;33m\u001b[0m\u001b[0m\n\u001b[0;32m   4999\u001b[0m             \u001b[1;32mif\u001b[0m \u001b[0mcheck\u001b[0m\u001b[1;33m.\u001b[0m\u001b[0many\u001b[0m\u001b[1;33m(\u001b[0m\u001b[1;33m)\u001b[0m\u001b[1;33m:\u001b[0m\u001b[1;33m\u001b[0m\u001b[1;33m\u001b[0m\u001b[0m\n\u001b[1;32m-> 5000\u001b[1;33m                 \u001b[1;32mraise\u001b[0m \u001b[0mKeyError\u001b[0m\u001b[1;33m(\u001b[0m\u001b[0mlist\u001b[0m\u001b[1;33m(\u001b[0m\u001b[0mnp\u001b[0m\u001b[1;33m.\u001b[0m\u001b[0mcompress\u001b[0m\u001b[1;33m(\u001b[0m\u001b[0mcheck\u001b[0m\u001b[1;33m,\u001b[0m \u001b[0msubset\u001b[0m\u001b[1;33m)\u001b[0m\u001b[1;33m)\u001b[0m\u001b[1;33m)\u001b[0m\u001b[1;33m\u001b[0m\u001b[1;33m\u001b[0m\u001b[0m\n\u001b[0m\u001b[0;32m   5001\u001b[0m             \u001b[0magg_obj\u001b[0m \u001b[1;33m=\u001b[0m \u001b[0mself\u001b[0m\u001b[1;33m.\u001b[0m\u001b[0mtake\u001b[0m\u001b[1;33m(\u001b[0m\u001b[0mindices\u001b[0m\u001b[1;33m,\u001b[0m \u001b[0maxis\u001b[0m\u001b[1;33m=\u001b[0m\u001b[0magg_axis\u001b[0m\u001b[1;33m)\u001b[0m\u001b[1;33m\u001b[0m\u001b[1;33m\u001b[0m\u001b[0m\n\u001b[0;32m   5002\u001b[0m \u001b[1;33m\u001b[0m\u001b[0m\n",
      "\u001b[1;31mKeyError\u001b[0m: ['loan_fraud']"
     ]
    }
   ],
   "source": [
    "# Drop rows with empty loanId\n",
    "d = dff.dropna(subset=['loan_fraud'])\n",
    "\n",
    "# Reset index\n",
    "d.reset_index(drop=True, inplace=True)"
   ]
  },
  {
   "cell_type": "code",
   "execution_count": 93,
   "metadata": {},
   "outputs": [
    {
     "name": "stdout",
     "output_type": "stream",
     "text": [
      "Accuracy (Logistic Regression): 0.7461726943055964\n"
     ]
    },
    {
     "name": "stderr",
     "output_type": "stream",
     "text": [
      "D:\\anaconda\\lib\\site-packages\\sklearn\\linear_model\\_logistic.py:762: ConvergenceWarning: lbfgs failed to converge (status=1):\n",
      "STOP: TOTAL NO. of ITERATIONS REACHED LIMIT.\n",
      "\n",
      "Increase the number of iterations (max_iter) or scale the data as shown in:\n",
      "    https://scikit-learn.org/stable/modules/preprocessing.html\n",
      "Please also refer to the documentation for alternative solver options:\n",
      "    https://scikit-learn.org/stable/modules/linear_model.html#logistic-regression\n",
      "  n_iter_i = _check_optimize_result(\n"
     ]
    }
   ],
   "source": [
    "from sklearn.linear_model import LogisticRegression\n",
    "\n",
    "# Initialize Logistic Regression classifier\n",
    "lr_model = LogisticRegression(random_state=42)\n",
    "\n",
    "# Train the LR model on the training data\n",
    "lr_model.fit(X_train, y_train)\n",
    "\n",
    "# Predict the loan fraud status on the testing data using LR\n",
    "y_pred_lr = lr_model.predict(X_test)\n",
    "\n",
    "# Evaluate the LR model's performance\n",
    "accuracy_lr = accuracy_score(y_test, y_pred_lr)\n",
    "print(\"Accuracy (Logistic Regression):\", accuracy_lr)\n"
   ]
  },
  {
   "cell_type": "code",
   "execution_count": 170,
   "metadata": {},
   "outputs": [
    {
     "ename": "KeyError",
     "evalue": "'a'",
     "output_type": "error",
     "traceback": [
      "\u001b[1;31m---------------------------------------------------------------------------\u001b[0m",
      "\u001b[1;31mKeyError\u001b[0m                                  Traceback (most recent call last)",
      "\u001b[1;32mD:\\anaconda\\lib\\site-packages\\pandas\\core\\indexes\\base.py\u001b[0m in \u001b[0;36mget_loc\u001b[1;34m(self, key, method, tolerance)\u001b[0m\n\u001b[0;32m   2894\u001b[0m             \u001b[1;32mtry\u001b[0m\u001b[1;33m:\u001b[0m\u001b[1;33m\u001b[0m\u001b[1;33m\u001b[0m\u001b[0m\n\u001b[1;32m-> 2895\u001b[1;33m                 \u001b[1;32mreturn\u001b[0m \u001b[0mself\u001b[0m\u001b[1;33m.\u001b[0m\u001b[0m_engine\u001b[0m\u001b[1;33m.\u001b[0m\u001b[0mget_loc\u001b[0m\u001b[1;33m(\u001b[0m\u001b[0mcasted_key\u001b[0m\u001b[1;33m)\u001b[0m\u001b[1;33m\u001b[0m\u001b[1;33m\u001b[0m\u001b[0m\n\u001b[0m\u001b[0;32m   2896\u001b[0m             \u001b[1;32mexcept\u001b[0m \u001b[0mKeyError\u001b[0m \u001b[1;32mas\u001b[0m \u001b[0merr\u001b[0m\u001b[1;33m:\u001b[0m\u001b[1;33m\u001b[0m\u001b[1;33m\u001b[0m\u001b[0m\n",
      "\u001b[1;32mpandas\\_libs\\index.pyx\u001b[0m in \u001b[0;36mpandas._libs.index.IndexEngine.get_loc\u001b[1;34m()\u001b[0m\n",
      "\u001b[1;32mpandas\\_libs\\index.pyx\u001b[0m in \u001b[0;36mpandas._libs.index.IndexEngine.get_loc\u001b[1;34m()\u001b[0m\n",
      "\u001b[1;32mpandas\\_libs\\hashtable_class_helper.pxi\u001b[0m in \u001b[0;36mpandas._libs.hashtable.PyObjectHashTable.get_item\u001b[1;34m()\u001b[0m\n",
      "\u001b[1;32mpandas\\_libs\\hashtable_class_helper.pxi\u001b[0m in \u001b[0;36mpandas._libs.hashtable.PyObjectHashTable.get_item\u001b[1;34m()\u001b[0m\n",
      "\u001b[1;31mKeyError\u001b[0m: 'a'",
      "\nThe above exception was the direct cause of the following exception:\n",
      "\u001b[1;31mKeyError\u001b[0m                                  Traceback (most recent call last)",
      "\u001b[1;32m<ipython-input-170-ef01b2e5e126>\u001b[0m in \u001b[0;36m<module>\u001b[1;34m\u001b[0m\n\u001b[0;32m      1\u001b[0m \u001b[1;31m# Plot histogram for column 'a' directly from DataFrame\u001b[0m\u001b[1;33m\u001b[0m\u001b[1;33m\u001b[0m\u001b[1;33m\u001b[0m\u001b[0m\n\u001b[1;32m----> 2\u001b[1;33m \u001b[0md\u001b[0m\u001b[1;33m[\u001b[0m\u001b[1;34m'a'\u001b[0m\u001b[1;33m]\u001b[0m\u001b[1;33m.\u001b[0m\u001b[0mplot\u001b[0m\u001b[1;33m(\u001b[0m\u001b[0mkind\u001b[0m\u001b[1;33m=\u001b[0m\u001b[1;34m'hist'\u001b[0m\u001b[1;33m,\u001b[0m \u001b[0mbins\u001b[0m\u001b[1;33m=\u001b[0m\u001b[1;36m20\u001b[0m\u001b[1;33m,\u001b[0m \u001b[0mcolor\u001b[0m\u001b[1;33m=\u001b[0m\u001b[1;34m'skyblue'\u001b[0m\u001b[1;33m,\u001b[0m \u001b[0medgecolor\u001b[0m\u001b[1;33m=\u001b[0m\u001b[1;34m'black'\u001b[0m\u001b[1;33m)\u001b[0m\u001b[1;33m\u001b[0m\u001b[1;33m\u001b[0m\u001b[0m\n\u001b[0m\u001b[0;32m      3\u001b[0m \u001b[0mplt\u001b[0m\u001b[1;33m.\u001b[0m\u001b[0mxlabel\u001b[0m\u001b[1;33m(\u001b[0m\u001b[1;34m'Values'\u001b[0m\u001b[1;33m)\u001b[0m\u001b[1;33m\u001b[0m\u001b[1;33m\u001b[0m\u001b[0m\n\u001b[0;32m      4\u001b[0m \u001b[0mplt\u001b[0m\u001b[1;33m.\u001b[0m\u001b[0mylabel\u001b[0m\u001b[1;33m(\u001b[0m\u001b[1;34m'Frequency'\u001b[0m\u001b[1;33m)\u001b[0m\u001b[1;33m\u001b[0m\u001b[1;33m\u001b[0m\u001b[0m\n\u001b[0;32m      5\u001b[0m \u001b[0mplt\u001b[0m\u001b[1;33m.\u001b[0m\u001b[0mtitle\u001b[0m\u001b[1;33m(\u001b[0m\u001b[1;34m'Histogram of Column A'\u001b[0m\u001b[1;33m)\u001b[0m\u001b[1;33m\u001b[0m\u001b[1;33m\u001b[0m\u001b[0m\n",
      "\u001b[1;32mD:\\anaconda\\lib\\site-packages\\pandas\\core\\frame.py\u001b[0m in \u001b[0;36m__getitem__\u001b[1;34m(self, key)\u001b[0m\n\u001b[0;32m   2900\u001b[0m             \u001b[1;32mif\u001b[0m \u001b[0mself\u001b[0m\u001b[1;33m.\u001b[0m\u001b[0mcolumns\u001b[0m\u001b[1;33m.\u001b[0m\u001b[0mnlevels\u001b[0m \u001b[1;33m>\u001b[0m \u001b[1;36m1\u001b[0m\u001b[1;33m:\u001b[0m\u001b[1;33m\u001b[0m\u001b[1;33m\u001b[0m\u001b[0m\n\u001b[0;32m   2901\u001b[0m                 \u001b[1;32mreturn\u001b[0m \u001b[0mself\u001b[0m\u001b[1;33m.\u001b[0m\u001b[0m_getitem_multilevel\u001b[0m\u001b[1;33m(\u001b[0m\u001b[0mkey\u001b[0m\u001b[1;33m)\u001b[0m\u001b[1;33m\u001b[0m\u001b[1;33m\u001b[0m\u001b[0m\n\u001b[1;32m-> 2902\u001b[1;33m             \u001b[0mindexer\u001b[0m \u001b[1;33m=\u001b[0m \u001b[0mself\u001b[0m\u001b[1;33m.\u001b[0m\u001b[0mcolumns\u001b[0m\u001b[1;33m.\u001b[0m\u001b[0mget_loc\u001b[0m\u001b[1;33m(\u001b[0m\u001b[0mkey\u001b[0m\u001b[1;33m)\u001b[0m\u001b[1;33m\u001b[0m\u001b[1;33m\u001b[0m\u001b[0m\n\u001b[0m\u001b[0;32m   2903\u001b[0m             \u001b[1;32mif\u001b[0m \u001b[0mis_integer\u001b[0m\u001b[1;33m(\u001b[0m\u001b[0mindexer\u001b[0m\u001b[1;33m)\u001b[0m\u001b[1;33m:\u001b[0m\u001b[1;33m\u001b[0m\u001b[1;33m\u001b[0m\u001b[0m\n\u001b[0;32m   2904\u001b[0m                 \u001b[0mindexer\u001b[0m \u001b[1;33m=\u001b[0m \u001b[1;33m[\u001b[0m\u001b[0mindexer\u001b[0m\u001b[1;33m]\u001b[0m\u001b[1;33m\u001b[0m\u001b[1;33m\u001b[0m\u001b[0m\n",
      "\u001b[1;32mD:\\anaconda\\lib\\site-packages\\pandas\\core\\indexes\\base.py\u001b[0m in \u001b[0;36mget_loc\u001b[1;34m(self, key, method, tolerance)\u001b[0m\n\u001b[0;32m   2895\u001b[0m                 \u001b[1;32mreturn\u001b[0m \u001b[0mself\u001b[0m\u001b[1;33m.\u001b[0m\u001b[0m_engine\u001b[0m\u001b[1;33m.\u001b[0m\u001b[0mget_loc\u001b[0m\u001b[1;33m(\u001b[0m\u001b[0mcasted_key\u001b[0m\u001b[1;33m)\u001b[0m\u001b[1;33m\u001b[0m\u001b[1;33m\u001b[0m\u001b[0m\n\u001b[0;32m   2896\u001b[0m             \u001b[1;32mexcept\u001b[0m \u001b[0mKeyError\u001b[0m \u001b[1;32mas\u001b[0m \u001b[0merr\u001b[0m\u001b[1;33m:\u001b[0m\u001b[1;33m\u001b[0m\u001b[1;33m\u001b[0m\u001b[0m\n\u001b[1;32m-> 2897\u001b[1;33m                 \u001b[1;32mraise\u001b[0m \u001b[0mKeyError\u001b[0m\u001b[1;33m(\u001b[0m\u001b[0mkey\u001b[0m\u001b[1;33m)\u001b[0m \u001b[1;32mfrom\u001b[0m \u001b[0merr\u001b[0m\u001b[1;33m\u001b[0m\u001b[1;33m\u001b[0m\u001b[0m\n\u001b[0m\u001b[0;32m   2898\u001b[0m \u001b[1;33m\u001b[0m\u001b[0m\n\u001b[0;32m   2899\u001b[0m         \u001b[1;32mif\u001b[0m \u001b[0mtolerance\u001b[0m \u001b[1;32mis\u001b[0m \u001b[1;32mnot\u001b[0m \u001b[1;32mNone\u001b[0m\u001b[1;33m:\u001b[0m\u001b[1;33m\u001b[0m\u001b[1;33m\u001b[0m\u001b[0m\n",
      "\u001b[1;31mKeyError\u001b[0m: 'a'"
     ]
    }
   ],
   "source": [
    "# Plot histogram for column 'a' directly from DataFrame\n",
    "d['a'].plot(kind='hist', bins=20, color='skyblue', edgecolor='black')\n",
    "plt.xlabel('Values')\n",
    "plt.ylabel('Frequency')\n",
    "plt.title('Histogram of Column A')\n",
    "plt.show()\n"
   ]
  },
  {
   "cell_type": "code",
   "execution_count": 164,
   "metadata": {},
   "outputs": [
    {
     "name": "stdout",
     "output_type": "stream",
     "text": [
      "[0. 0. 1. 1. 1. 1. 1. 1. 1. 1. 1. 1. 1. 0. 0. 0. 0. 0. 0. 0. 0. 0. 0. 0.\n",
      " 0. 0. 0. 0. 0. 0. 0. 0. 1. 0. 0. 0. 0. 0. 0. 0. 0. 0. 0. 0. 0. 0. 0. 0.\n",
      " 0. 0. 0. 0. 0. 0. 0. 0. 0. 0. 0. 0. 0. 0. 0. 0. 0. 0. 0. 0. 0. 0. 0. 0.\n",
      " 0. 0. 0. 0. 0. 0. 0. 0. 0. 0. 0. 0. 0. 0. 0. 0. 0. 0. 0. 0. 0. 0. 0. 0.\n",
      " 0. 0. 0. 0. 0. 0. 0. 0. 0. 0. 0. 0. 0. 0. 0. 1. 0. 1. 1. 0. 1. 1. 1. 0.\n",
      " 0. 0. 0. 0. 0. 0. 0. 1. 0. 0. 0. 0. 0. 0. 0. 1. 1. 1. 1. 1. 1. 1. 1. 1.\n",
      " 1. 1. 1. 1. 1. 1. 1. 1. 1. 1. 1. 1. 1. 1. 1. 1. 1. 1. 0. 0. 0. 0. 0. 0.\n",
      " 0. 0. 0. 0. 0. 0. 0. 0. 0. 0. 0. 0. 0. 0. 0. 0. 0. 0. 0. 0. 0. 0. 0. 0.\n",
      " 0. 0. 0. 0. 0. 0. 0. 0. 0. 0. 0. 0. 0. 0. 0. 0. 0. 0. 0. 0. 0. 0. 0. 0.\n",
      " 0. 1. 0. 0. 1. 1. 1. 1. 1. 1. 1. 1. 1. 1. 0. 0. 0. 0. 0. 0. 0. 1. 1. 1.\n",
      " 1. 1. 1. 1. 1. 0. 0. 0. 0. 0. 0. 0. 0. 0. 0. 0. 0. 1. 0. 0. 0. 0. 1. 0.\n",
      " 0. 0. 0. 1. 1. 1. 0. 0. 1. 1. 1. 1. 1. 1. 1. 1. 1. 1. 1. 1. 1. 1. 1. 1.\n",
      " 1. 0. 0. 0. 0. 0. 0. 0. 0. 0. 0. 0. 0. 0. 0. 0. 0. 0. 0. 0. 0. 0. 0. 0.\n",
      " 0. 0. 0. 0. 0. 0. 0. 0. 0. 0. 0. 0. 0. 0. 0. 0. 0. 0. 0. 0. 0. 0. 1. 1.\n",
      " 1. 1. 0. 0. 0. 0. 0. 0. 1. 1. 1. 1. 1. 0. 0. 0. 0. 0. 0. 0. 0. 0. 0. 0.\n",
      " 0. 0. 0. 0. 0. 0. 0. 0. 0. 1. 1. 1. 1. 1. 1. 1. 1. 1. 0. 0. 0. 0. 0. 0.\n",
      " 0. 0. 0. 0. 0. 0. 0. 0. 0. 0. 0. 0. 0. 0. 0. 0. 0. 0. 0. 0. 0. 0. 0. 0.\n",
      " 0. 0. 0. 0. 0. 0. 0. 0. 0. 0. 0. 0. 0. 0. 0. 0. 0. 0. 0. 0. 0. 0. 0. 1.\n",
      " 1. 1. 1. 1. 1. 1. 1. 1. 1. 1. 1. 1. 0. 0. 0. 1. 1. 1. 1. 1. 1. 1. 1. 1.\n",
      " 1. 0. 0. 0. 0. 0. 0. 0. 0. 0. 0. 0. 0. 0. 0. 0. 0. 0. 0. 0. 0. 0. 0. 0.\n",
      " 0. 0. 0. 0. 0. 0. 0. 1. 0. 0. 0. 0. 0. 0. 0. 0. 0. 1. 1. 0. 1. 1. 1. 1.\n",
      " 1. 1. 1. 1. 1. 1. 1. 1. 1. 1. 1. 1. 1. 1. 1. 1. 1. 1. 0. 1. 1. 1. 1. 1.\n",
      " 0. 0. 0. 0. 0. 0. 1. 0. 0. 1. 0. 0. 0. 1. 1. 1. 1. 1. 1. 0. 0. 0. 0. 0.\n",
      " 0. 0. 0. 0. 0. 0. 0. 0. 0. 0. 0. 0. 0. 0. 0. 0. 0. 0. 0. 0. 0. 0. 0. 0.\n",
      " 0. 0. 0. 0. 0. 0. 0. 0. 0. 0. 0. 0. 0. 0. 0. 0. 0. 0. 0. 0. 0. 0. 0. 0.\n",
      " 1. 1. 1. 1. 1. 1. 1. 0. 0. 0. 0. 1. 1. 1. 1. 1. 1. 1. 1. 1. 0. 1. 1. 1.\n",
      " 1. 1. 1. 1. 1. 1. 1. 0. 0. 0. 0. 0. 0. 0. 0. 0. 0. 0. 0. 0. 0. 0. 0. 0.\n",
      " 0. 0. 1. 1. 1. 1. 1. 1. 0. 0. 0. 0. 0. 0. 0. 0. 0. 0. 0. 0. 0. 0. 0. 0.\n",
      " 0. 0. 0. 0. 0. 0. 0. 0. 0. 0. 0. 0. 0. 0. 0. 1. 0. 0. 0. 0. 0. 0. 0. 0.\n",
      " 0. 0. 0. 0. 0. 0. 0. 0. 1. 1. 1. 1. 1. 0. 0. 0. 0. 0. 0. 0. 0. 0. 0. 0.\n",
      " 0. 0. 0. 0. 1. 0. 0. 0. 1. 1. 1. 0. 0. 0. 0. 0. 0. 0. 0. 0. 0. 0. 0. 0.\n",
      " 0. 0. 0. 0. 0. 0. 0. 0. 0. 0. 0. 0. 0. 0. 0. 0. 0. 1. 1. 1. 1. 1. 1. 0.\n",
      " 1. 1. 1. 1. 1. 1. 1. 1. 1. 1. 1. 1. 1. 1. 1. 1. 1. 1. 1. 1. 1. 1. 1. 1.\n",
      " 0. 0. 0. 0. 0. 0. 0. 1. 0. 0. 0. 0. 0. 0. 0. 0. 0. 0. 0. 0. 0. 0. 0. 0.\n",
      " 0. 0. 0. 0. 1. 0. 0. 0. 0. 0. 0. 0. 0. 0. 0. 0. 0. 0. 0. 0. 0. 0. 0. 0.\n",
      " 0. 0. 1. 1. 1. 0. 0. 0. 0. 0. 0. 0. 0. 0. 0. 0. 0. 0. 0. 0. 0. 0. 0. 0.\n",
      " 0. 0. 0. 0. 0. 0. 0. 0. 0. 0. 0. 0. 0. 0. 0. 0. 0. 0. 0. 0. 0. 0. 0. 0.\n",
      " 0. 0. 0. 0. 1. 1. 1. 0. 0. 0. 0. 0. 0. 0. 0. 0. 0. 0. 0. 0. 0. 0. 0. 0.\n",
      " 0. 1. 1. 0. 1. 0. 0. 0. 0. 0. 0. 0. 0. 0. 0. 0. 0. 0. 0. 0. 0. 0. 0. 0.\n",
      " 1. 1. 1. 1. 1. 1. 1. 1. 1. 1. 1. 1. 1. 0. 0. 1. 0. 0. 0. 0. 0. 0. 0. 0.\n",
      " 0. 0. 0. 1. 1. 1. 1. 1. 1. 1. 1. 1. 1. 1. 1. 1. 0. 1. 1. 1. 1. 1. 0. 0.\n",
      " 0. 0. 0. 0. 0. 1. 1. 1. 1. 1. 1. 1. 1. 1. 1. 1.]\n"
     ]
    }
   ],
   "source": [
    "y_pred = lr_model.predict(dff)\n",
    "print(y_pred)"
   ]
  },
  {
   "cell_type": "code",
   "execution_count": 165,
   "metadata": {},
   "outputs": [],
   "source": [
    "sub = pd.read_csv(r'D:\\1challenge\\evaluation\\submission.csv')"
   ]
  },
  {
   "cell_type": "code",
   "execution_count": 166,
   "metadata": {},
   "outputs": [],
   "source": [
    "sub['prediction'] = y_pred"
   ]
  },
  {
   "cell_type": "code",
   "execution_count": 167,
   "metadata": {},
   "outputs": [],
   "source": [
    "sub.to_csv(r'D:\\1challenge\\evaluation\\submission.csv',index=False)"
   ]
  },
  {
   "cell_type": "code",
   "execution_count": null,
   "metadata": {},
   "outputs": [],
   "source": []
  }
 ],
 "metadata": {
  "kernelspec": {
   "display_name": "Python 3",
   "language": "python",
   "name": "python3"
  },
  "language_info": {
   "codemirror_mode": {
    "name": "ipython",
    "version": 3
   },
   "file_extension": ".py",
   "mimetype": "text/x-python",
   "name": "python",
   "nbconvert_exporter": "python",
   "pygments_lexer": "ipython3",
   "version": "3.8.5"
  }
 },
 "nbformat": 4,
 "nbformat_minor": 4
}
