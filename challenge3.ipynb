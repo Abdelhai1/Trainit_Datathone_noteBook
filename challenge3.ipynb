{
 "cells": [
  {
   "cell_type": "code",
   "execution_count": null,
   "metadata": {},
   "outputs": [],
   "source": [
    "import pandas as pd\n",
    "# save filepath to variable for easier access\n",
    "melbourne_file_path = r'D:\\1challenge\\train\\loans.csv'\n",
    "melbourne_file_path2 = r'D:\\1challenge\\train\\payments.csv'\n",
    "# read the data and store data in DataFrame titled melbourne_data\n",
    "dff1 = pd.read_csv(melbourne_file_path) \n",
    "dff2 = pd.read_csv(melbourne_file_path2) \n",
    "# print a summary of the data in Melbourne data\n",
    "dff2.describe()\n"
   ]
  },
  {
   "cell_type": "code",
   "execution_count": 180,
   "metadata": {},
   "outputs": [
    {
     "name": "stdout",
     "output_type": "stream",
     "text": [
      "loanId                                 256\n",
      "anon_ssn                                 0\n",
      "payFrequency                          1273\n",
      "apr                                   3922\n",
      "applicationDate                          0\n",
      "originated                               0\n",
      "originatedDate                      531637\n",
      "nPaidOff                                24\n",
      "approved                                 0\n",
      "isFunded                                 0\n",
      "loanStatus                             391\n",
      "loanAmount                            2250\n",
      "originallyScheduledPaymentAmount         0\n",
      "state                                  132\n",
      "leadType                                 0\n",
      "leadCost                                 0\n",
      "fpStatus                                 0\n",
      "clarityFraudId                      219831\n",
      "hasCF                                    0\n",
      "dtype: int64\n"
     ]
    }
   ],
   "source": [
    "dff1['fpStatus'] = dff1['fpStatus'].fillna(-10)\n",
    "missing_values = dff1.isnull().sum()\n",
    "print(missing_values)"
   ]
  },
  {
   "cell_type": "code",
   "execution_count": 181,
   "metadata": {},
   "outputs": [],
   "source": [
    "# Drop rows with empty loanId\n",
    "dff1 = dff1.dropna(subset=['loanId'])\n",
    "\n",
    "# Reset index\n",
    "dff1.reset_index(drop=True, inplace=True)"
   ]
  },
  {
   "cell_type": "code",
   "execution_count": 182,
   "metadata": {},
   "outputs": [],
   "source": [
    "# Drop rows with empty loanId\n",
    "dff1 = dff1.dropna(subset=['nPaidOff'])\n",
    "\n",
    "# Reset index\n",
    "dff1.reset_index(drop=True, inplace=True)"
   ]
  },
  {
   "cell_type": "code",
   "execution_count": 183,
   "metadata": {},
   "outputs": [],
   "source": [
    "# Drop rows with empty loanId\n",
    "dff1 = dff1.dropna(subset=['payFrequency'])\n",
    "\n",
    "# Reset index\n",
    "dff1.reset_index(drop=True, inplace=True)"
   ]
  },
  {
   "cell_type": "code",
   "execution_count": 184,
   "metadata": {},
   "outputs": [],
   "source": [
    "# Drop rows with empty loanId\n",
    "dff1 = dff1.dropna(subset=['apr'])\n",
    "\n",
    "# Reset index\n",
    "dff1.reset_index(drop=True, inplace=True)"
   ]
  },
  {
   "cell_type": "code",
   "execution_count": 185,
   "metadata": {},
   "outputs": [],
   "source": [
    "# Drop rows with empty loanId\n",
    "dff1 = dff1.dropna(subset=['loanStatus'])\n",
    "\n",
    "# Reset index\n",
    "dff1.reset_index(drop=True, inplace=True)"
   ]
  },
  {
   "cell_type": "code",
   "execution_count": 186,
   "metadata": {},
   "outputs": [],
   "source": [
    "# Drop rows with empty loanId\n",
    "dff1 = dff1.dropna(subset=['loanAmount'])\n",
    "\n",
    "# Reset index\n",
    "dff1.reset_index(drop=True, inplace=True)"
   ]
  },
  {
   "cell_type": "code",
   "execution_count": 187,
   "metadata": {},
   "outputs": [],
   "source": [
    "# Drop rows with empty loanId\n",
    "dff1 = dff1.dropna(subset=['state'])\n",
    "\n",
    "# Reset index\n",
    "dff1.reset_index(drop=True, inplace=True)"
   ]
  },
  {
   "cell_type": "code",
   "execution_count": 188,
   "metadata": {},
   "outputs": [],
   "source": [
    "dff1 = dff1.drop('originatedDate',axis='columns')"
   ]
  },
  {
   "cell_type": "code",
   "execution_count": 189,
   "metadata": {},
   "outputs": [],
   "source": [
    "dff1 = dff1.drop('fpStatus',axis='columns')"
   ]
  },
  {
   "cell_type": "code",
   "execution_count": 190,
   "metadata": {},
   "outputs": [],
   "source": [
    "dff1 = dff1.drop('clarityFraudId',axis='columns')"
   ]
  },
  {
   "cell_type": "code",
   "execution_count": 191,
   "metadata": {},
   "outputs": [
    {
     "name": "stdout",
     "output_type": "stream",
     "text": [
      "loanId                              0\n",
      "anon_ssn                            0\n",
      "payFrequency                        0\n",
      "apr                                 0\n",
      "applicationDate                     0\n",
      "originated                          0\n",
      "nPaidOff                            0\n",
      "approved                            0\n",
      "isFunded                            0\n",
      "loanStatus                          0\n",
      "loanAmount                          0\n",
      "originallyScheduledPaymentAmount    0\n",
      "state                               0\n",
      "leadType                            0\n",
      "leadCost                            0\n",
      "hasCF                               0\n",
      "dtype: int64\n"
     ]
    }
   ],
   "source": [
    "missing_values = dff1.isnull().sum()\n",
    "print(missing_values)"
   ]
  },
  {
   "cell_type": "code",
   "execution_count": 192,
   "metadata": {},
   "outputs": [
    {
     "name": "stdout",
     "output_type": "stream",
     "text": [
      "loanId                    0\n",
      "installmentIndex          0\n",
      "isCollection              0\n",
      "paymentDate               0\n",
      "principal                 0\n",
      "fees                      0\n",
      "paymentAmount             0\n",
      "paymentStatus             0\n",
      "paymentReturnCode    641636\n",
      "dtype: int64\n"
     ]
    }
   ],
   "source": [
    "missing_values = dff2.isnull().sum()\n",
    "print(missing_values)"
   ]
  },
  {
   "cell_type": "code",
   "execution_count": 193,
   "metadata": {},
   "outputs": [],
   "source": [
    "dff2 = dff2.drop('paymentReturnCode',axis='columns')"
   ]
  },
  {
   "cell_type": "code",
   "execution_count": 194,
   "metadata": {
    "scrolled": true
   },
   "outputs": [
    {
     "name": "stdout",
     "output_type": "stream",
     "text": [
      "loanId              0\n",
      "installmentIndex    0\n",
      "isCollection        0\n",
      "paymentDate         0\n",
      "principal           0\n",
      "fees                0\n",
      "paymentAmount       0\n",
      "paymentStatus       0\n",
      "dtype: int64\n"
     ]
    }
   ],
   "source": [
    "missing_values = dff2.isnull().sum()\n",
    "print(missing_values)"
   ]
  },
  {
   "cell_type": "code",
   "execution_count": 195,
   "metadata": {},
   "outputs": [
    {
     "data": {
      "text/plain": [
       "(571254, 16)"
      ]
     },
     "execution_count": 195,
     "metadata": {},
     "output_type": "execute_result"
    }
   ],
   "source": [
    "dff1.shape"
   ]
  },
  {
   "cell_type": "code",
   "execution_count": 196,
   "metadata": {},
   "outputs": [
    {
     "data": {
      "text/plain": [
       "(672719, 8)"
      ]
     },
     "execution_count": 196,
     "metadata": {},
     "output_type": "execute_result"
    }
   ],
   "source": [
    "dff2.shape"
   ]
  },
  {
   "cell_type": "code",
   "execution_count": 197,
   "metadata": {},
   "outputs": [
    {
     "data": {
      "text/plain": [
       "array(['Withdrawn Application', 'Paid Off Loan', 'Rejected', 'New Loan',\n",
       "       'Internal Collection', 'CSR Voided New Loan',\n",
       "       'External Collection', 'Returned Item', 'Customer Voided New Loan',\n",
       "       'Credit Return Void', 'Pending Paid Off', 'Charged Off Paid Off',\n",
       "       'Settled Bankruptcy', 'Settlement Paid Off', 'Charged Off',\n",
       "       'Pending Rescind', 'Customver Voided New Loan',\n",
       "       'Pending Application', 'Voided New Loan',\n",
       "       'Pending Application Fee', 'Settlement Pending Paid Off'],\n",
       "      dtype=object)"
      ]
     },
     "execution_count": 197,
     "metadata": {},
     "output_type": "execute_result"
    }
   ],
   "source": [
    "dff1['loanStatus'].unique()"
   ]
  },
  {
   "cell_type": "code",
   "execution_count": 200,
   "metadata": {},
   "outputs": [
    {
     "data": {
      "text/plain": [
       "(571254, 16)"
      ]
     },
     "execution_count": 200,
     "metadata": {},
     "output_type": "execute_result"
    }
   ],
   "source": [
    "dff1.shape\n"
   ]
  },
  {
   "cell_type": "code",
   "execution_count": 201,
   "metadata": {},
   "outputs": [
    {
     "data": {
      "text/plain": [
       "(571254, 23)"
      ]
     },
     "execution_count": 201,
     "metadata": {},
     "output_type": "execute_result"
    }
   ],
   "source": [
    "# Merge df1 and df2 based on loanId using an inner join\n",
    "merged_df = pd.merge(dff1, dff2, on='loanId', how='inner')\n",
    "\n",
    "# Select the first 1000 rows\n",
    "dff = merged_df.head(571254)\n",
    "\n",
    "# Display the resulting DataFrame\n",
    "dff.shape\n",
    "\n",
    "\n"
   ]
  },
  {
   "cell_type": "code",
   "execution_count": 202,
   "metadata": {},
   "outputs": [
    {
     "data": {
      "text/html": [
       "<div>\n",
       "<style scoped>\n",
       "    .dataframe tbody tr th:only-of-type {\n",
       "        vertical-align: middle;\n",
       "    }\n",
       "\n",
       "    .dataframe tbody tr th {\n",
       "        vertical-align: top;\n",
       "    }\n",
       "\n",
       "    .dataframe thead th {\n",
       "        text-align: right;\n",
       "    }\n",
       "</style>\n",
       "<table border=\"1\" class=\"dataframe\">\n",
       "  <thead>\n",
       "    <tr style=\"text-align: right;\">\n",
       "      <th></th>\n",
       "      <th>loanId</th>\n",
       "      <th>anon_ssn</th>\n",
       "      <th>payFrequency</th>\n",
       "      <th>apr</th>\n",
       "      <th>applicationDate</th>\n",
       "      <th>originated</th>\n",
       "      <th>nPaidOff</th>\n",
       "      <th>approved</th>\n",
       "      <th>isFunded</th>\n",
       "      <th>loanStatus</th>\n",
       "      <th>...</th>\n",
       "      <th>leadType</th>\n",
       "      <th>leadCost</th>\n",
       "      <th>hasCF</th>\n",
       "      <th>installmentIndex</th>\n",
       "      <th>isCollection</th>\n",
       "      <th>paymentDate</th>\n",
       "      <th>principal</th>\n",
       "      <th>fees</th>\n",
       "      <th>paymentAmount</th>\n",
       "      <th>paymentStatus</th>\n",
       "    </tr>\n",
       "  </thead>\n",
       "  <tbody>\n",
       "    <tr>\n",
       "      <th>0</th>\n",
       "      <td>LL-I-06644937</td>\n",
       "      <td>464f5d9ae4fa09ece4048d949191865c</td>\n",
       "      <td>B</td>\n",
       "      <td>199.0</td>\n",
       "      <td>2016-01-19T22:07:36.778000</td>\n",
       "      <td>True</td>\n",
       "      <td>0.0</td>\n",
       "      <td>True</td>\n",
       "      <td>1</td>\n",
       "      <td>Paid Off Loan</td>\n",
       "      <td>...</td>\n",
       "      <td>prescreen</td>\n",
       "      <td>0</td>\n",
       "      <td>1</td>\n",
       "      <td>1</td>\n",
       "      <td>False</td>\n",
       "      <td>2016-01-27T05:00:00</td>\n",
       "      <td>151.98</td>\n",
       "      <td>114.49</td>\n",
       "      <td>266.47</td>\n",
       "      <td>Checked</td>\n",
       "    </tr>\n",
       "    <tr>\n",
       "      <th>1</th>\n",
       "      <td>LL-I-06644937</td>\n",
       "      <td>464f5d9ae4fa09ece4048d949191865c</td>\n",
       "      <td>B</td>\n",
       "      <td>199.0</td>\n",
       "      <td>2016-01-19T22:07:36.778000</td>\n",
       "      <td>True</td>\n",
       "      <td>0.0</td>\n",
       "      <td>True</td>\n",
       "      <td>1</td>\n",
       "      <td>Paid Off Loan</td>\n",
       "      <td>...</td>\n",
       "      <td>prescreen</td>\n",
       "      <td>0</td>\n",
       "      <td>1</td>\n",
       "      <td>2</td>\n",
       "      <td>False</td>\n",
       "      <td>2016-02-10T05:00:00</td>\n",
       "      <td>49.08</td>\n",
       "      <td>217.39</td>\n",
       "      <td>266.47</td>\n",
       "      <td>Checked</td>\n",
       "    </tr>\n",
       "    <tr>\n",
       "      <th>2</th>\n",
       "      <td>LL-I-06644937</td>\n",
       "      <td>464f5d9ae4fa09ece4048d949191865c</td>\n",
       "      <td>B</td>\n",
       "      <td>199.0</td>\n",
       "      <td>2016-01-19T22:07:36.778000</td>\n",
       "      <td>True</td>\n",
       "      <td>0.0</td>\n",
       "      <td>True</td>\n",
       "      <td>1</td>\n",
       "      <td>Paid Off Loan</td>\n",
       "      <td>...</td>\n",
       "      <td>prescreen</td>\n",
       "      <td>0</td>\n",
       "      <td>1</td>\n",
       "      <td>3</td>\n",
       "      <td>False</td>\n",
       "      <td>2016-02-24T05:00:00</td>\n",
       "      <td>52.83</td>\n",
       "      <td>213.64</td>\n",
       "      <td>266.47</td>\n",
       "      <td>Checked</td>\n",
       "    </tr>\n",
       "    <tr>\n",
       "      <th>3</th>\n",
       "      <td>LL-I-06644937</td>\n",
       "      <td>464f5d9ae4fa09ece4048d949191865c</td>\n",
       "      <td>B</td>\n",
       "      <td>199.0</td>\n",
       "      <td>2016-01-19T22:07:36.778000</td>\n",
       "      <td>True</td>\n",
       "      <td>0.0</td>\n",
       "      <td>True</td>\n",
       "      <td>1</td>\n",
       "      <td>Paid Off Loan</td>\n",
       "      <td>...</td>\n",
       "      <td>prescreen</td>\n",
       "      <td>0</td>\n",
       "      <td>1</td>\n",
       "      <td>4</td>\n",
       "      <td>False</td>\n",
       "      <td>2016-03-09T05:00:00</td>\n",
       "      <td>56.86</td>\n",
       "      <td>209.61</td>\n",
       "      <td>266.47</td>\n",
       "      <td>Checked</td>\n",
       "    </tr>\n",
       "    <tr>\n",
       "      <th>4</th>\n",
       "      <td>LL-I-06644937</td>\n",
       "      <td>464f5d9ae4fa09ece4048d949191865c</td>\n",
       "      <td>B</td>\n",
       "      <td>199.0</td>\n",
       "      <td>2016-01-19T22:07:36.778000</td>\n",
       "      <td>True</td>\n",
       "      <td>0.0</td>\n",
       "      <td>True</td>\n",
       "      <td>1</td>\n",
       "      <td>Paid Off Loan</td>\n",
       "      <td>...</td>\n",
       "      <td>prescreen</td>\n",
       "      <td>0</td>\n",
       "      <td>1</td>\n",
       "      <td>5</td>\n",
       "      <td>False</td>\n",
       "      <td>2016-03-23T04:00:00</td>\n",
       "      <td>61.20</td>\n",
       "      <td>205.27</td>\n",
       "      <td>266.47</td>\n",
       "      <td>Checked</td>\n",
       "    </tr>\n",
       "  </tbody>\n",
       "</table>\n",
       "<p>5 rows × 23 columns</p>\n",
       "</div>"
      ],
      "text/plain": [
       "          loanId                          anon_ssn payFrequency    apr  \\\n",
       "0  LL-I-06644937  464f5d9ae4fa09ece4048d949191865c            B  199.0   \n",
       "1  LL-I-06644937  464f5d9ae4fa09ece4048d949191865c            B  199.0   \n",
       "2  LL-I-06644937  464f5d9ae4fa09ece4048d949191865c            B  199.0   \n",
       "3  LL-I-06644937  464f5d9ae4fa09ece4048d949191865c            B  199.0   \n",
       "4  LL-I-06644937  464f5d9ae4fa09ece4048d949191865c            B  199.0   \n",
       "\n",
       "              applicationDate  originated  nPaidOff  approved  isFunded  \\\n",
       "0  2016-01-19T22:07:36.778000        True       0.0      True         1   \n",
       "1  2016-01-19T22:07:36.778000        True       0.0      True         1   \n",
       "2  2016-01-19T22:07:36.778000        True       0.0      True         1   \n",
       "3  2016-01-19T22:07:36.778000        True       0.0      True         1   \n",
       "4  2016-01-19T22:07:36.778000        True       0.0      True         1   \n",
       "\n",
       "      loanStatus  ...   leadType  leadCost hasCF installmentIndex  \\\n",
       "0  Paid Off Loan  ...  prescreen         0     1                1   \n",
       "1  Paid Off Loan  ...  prescreen         0     1                2   \n",
       "2  Paid Off Loan  ...  prescreen         0     1                3   \n",
       "3  Paid Off Loan  ...  prescreen         0     1                4   \n",
       "4  Paid Off Loan  ...  prescreen         0     1                5   \n",
       "\n",
       "   isCollection          paymentDate  principal    fees paymentAmount  \\\n",
       "0         False  2016-01-27T05:00:00     151.98  114.49        266.47   \n",
       "1         False  2016-02-10T05:00:00      49.08  217.39        266.47   \n",
       "2         False  2016-02-24T05:00:00      52.83  213.64        266.47   \n",
       "3         False  2016-03-09T05:00:00      56.86  209.61        266.47   \n",
       "4         False  2016-03-23T04:00:00      61.20  205.27        266.47   \n",
       "\n",
       "   paymentStatus  \n",
       "0        Checked  \n",
       "1        Checked  \n",
       "2        Checked  \n",
       "3        Checked  \n",
       "4        Checked  \n",
       "\n",
       "[5 rows x 23 columns]"
      ]
     },
     "execution_count": 202,
     "metadata": {},
     "output_type": "execute_result"
    }
   ],
   "source": [
    "dff.head()"
   ]
  },
  {
   "cell_type": "code",
   "execution_count": 203,
   "metadata": {},
   "outputs": [],
   "source": [
    "dff = dff.drop('applicationDate',axis='columns')"
   ]
  },
  {
   "cell_type": "code",
   "execution_count": 204,
   "metadata": {},
   "outputs": [],
   "source": [
    "dff = dff.drop('loanId',axis='columns')"
   ]
  },
  {
   "cell_type": "code",
   "execution_count": 205,
   "metadata": {},
   "outputs": [],
   "source": [
    "dff = dff.drop('anon_ssn',axis='columns')"
   ]
  },
  {
   "cell_type": "code",
   "execution_count": 206,
   "metadata": {},
   "outputs": [],
   "source": [
    "dff = dff.drop('paymentDate',axis='columns')"
   ]
  },
  {
   "cell_type": "code",
   "execution_count": 207,
   "metadata": {},
   "outputs": [
    {
     "name": "stdout",
     "output_type": "stream",
     "text": [
      "       payFrequency    apr  originated  nPaidOff  approved  isFunded  \\\n",
      "0                 B  199.0        True       0.0      True         1   \n",
      "1                 B  199.0        True       0.0      True         1   \n",
      "2                 B  199.0        True       0.0      True         1   \n",
      "3                 B  199.0        True       0.0      True         1   \n",
      "4                 B  199.0        True       0.0      True         1   \n",
      "...             ...    ...         ...       ...       ...       ...   \n",
      "571249            W  490.0        True       0.0      True         1   \n",
      "571250            W  490.0        True       0.0      True         1   \n",
      "571251            W  490.0        True       0.0      True         1   \n",
      "571252            W  490.0        True       0.0      True         1   \n",
      "571253            W  490.0        True       0.0      True         1   \n",
      "\n",
      "                 loanStatus  loanAmount  originallyScheduledPaymentAmount  \\\n",
      "0             Paid Off Loan      3000.0                           6395.19   \n",
      "1             Paid Off Loan      3000.0                           6395.19   \n",
      "2             Paid Off Loan      3000.0                           6395.19   \n",
      "3             Paid Off Loan      3000.0                           6395.19   \n",
      "4             Paid Off Loan      3000.0                           6395.19   \n",
      "...                     ...         ...                               ...   \n",
      "571249  External Collection       400.0                           1037.82   \n",
      "571250  External Collection       400.0                           1037.82   \n",
      "571251  External Collection       400.0                           1037.82   \n",
      "571252  External Collection       400.0                           1037.82   \n",
      "571253  External Collection       400.0                           1037.82   \n",
      "\n",
      "       state     leadType  leadCost  hasCF  installmentIndex  isCollection  \\\n",
      "0         CA    prescreen         0      1                 1         False   \n",
      "1         CA    prescreen         0      1                 2         False   \n",
      "2         CA    prescreen         0      1                 3         False   \n",
      "3         CA    prescreen         0      1                 4         False   \n",
      "4         CA    prescreen         0      1                 5         False   \n",
      "...      ...          ...       ...    ...               ...           ...   \n",
      "571249    MO  bvMandatory        10      1                38         False   \n",
      "571250    MO  bvMandatory        10      1                39         False   \n",
      "571251    MO  bvMandatory        10      1                40         False   \n",
      "571252    MO  bvMandatory        10      1                41         False   \n",
      "571253    MO  bvMandatory        10      1                42         False   \n",
      "\n",
      "        principal    fees  paymentAmount paymentStatus  loan_fraud  \n",
      "0          151.98  114.49         266.47       Checked         0.0  \n",
      "1           49.08  217.39         266.47       Checked         0.0  \n",
      "2           52.83  213.64         266.47       Checked         0.0  \n",
      "3           56.86  209.61         266.47       Checked         0.0  \n",
      "4           61.20  205.27         266.47       Checked         0.0  \n",
      "...           ...     ...            ...           ...         ...  \n",
      "571249      30.04   12.99          43.03     Cancelled         NaN  \n",
      "571250      30.04   12.99          43.03          None         NaN  \n",
      "571251      32.87   10.16          43.03     Cancelled         NaN  \n",
      "571252      32.87   10.16          43.03          None         NaN  \n",
      "571253      35.96    7.07          43.03     Cancelled         NaN  \n",
      "\n",
      "[571254 rows x 20 columns]\n"
     ]
    }
   ],
   "source": [
    "# Define a function to map loanStatus to loan fraud column\n",
    "def map_loan_status(status):\n",
    "    normal_statuses = ['Paid Off Loan', 'Charged Off Paid Off', 'Settlement Paid Off']\n",
    "    fraud_statuses = ['Rejected', 'Internal Collection', 'CSR Voided New Loan', 'Customer Voided New Loan', 'Credit Return Void', 'Pending Application Fee', 'Charged Off']\n",
    "    \n",
    "    if status in normal_statuses:\n",
    "        return 0\n",
    "    elif status in fraud_statuses:\n",
    "        return 1\n",
    "    else:\n",
    "        return None  # For other statuses not considered in the classification process\n",
    "\n",
    "# Apply the function to create the new column\n",
    "dff['loan_fraud'] = dff['loanStatus'].apply(map_loan_status)\n",
    "\n",
    "# Display the DataFrame to verify the new column\n",
    "print(dff)\n"
   ]
  },
  {
   "cell_type": "code",
   "execution_count": 208,
   "metadata": {},
   "outputs": [
    {
     "data": {
      "text/plain": [
       "array(['Checked', 'Cancelled', 'Pending', 'None', 'Rejected', 'Skipped',\n",
       "       'Rejected Awaiting Retry', 'Returned', 'Complete'], dtype=object)"
      ]
     },
     "execution_count": 208,
     "metadata": {},
     "output_type": "execute_result"
    }
   ],
   "source": [
    "dff['paymentStatus'].unique()"
   ]
  },
  {
   "cell_type": "code",
   "execution_count": 209,
   "metadata": {},
   "outputs": [
    {
     "name": "stdout",
     "output_type": "stream",
     "text": [
      "       payFrequency    apr  originated  nPaidOff  approved  isFunded  \\\n",
      "0                 B  199.0        True       0.0      True         1   \n",
      "1                 B  199.0        True       0.0      True         1   \n",
      "2                 B  199.0        True       0.0      True         1   \n",
      "3                 B  199.0        True       0.0      True         1   \n",
      "4                 B  199.0        True       0.0      True         1   \n",
      "...             ...    ...         ...       ...       ...       ...   \n",
      "571249            W  490.0        True       0.0      True         1   \n",
      "571250            W  490.0        True       0.0      True         1   \n",
      "571251            W  490.0        True       0.0      True         1   \n",
      "571252            W  490.0        True       0.0      True         1   \n",
      "571253            W  490.0        True       0.0      True         1   \n",
      "\n",
      "                 loanStatus  loanAmount  originallyScheduledPaymentAmount  \\\n",
      "0             Paid Off Loan      3000.0                           6395.19   \n",
      "1             Paid Off Loan      3000.0                           6395.19   \n",
      "2             Paid Off Loan      3000.0                           6395.19   \n",
      "3             Paid Off Loan      3000.0                           6395.19   \n",
      "4             Paid Off Loan      3000.0                           6395.19   \n",
      "...                     ...         ...                               ...   \n",
      "571249  External Collection       400.0                           1037.82   \n",
      "571250  External Collection       400.0                           1037.82   \n",
      "571251  External Collection       400.0                           1037.82   \n",
      "571252  External Collection       400.0                           1037.82   \n",
      "571253  External Collection       400.0                           1037.82   \n",
      "\n",
      "       state     leadType  leadCost  hasCF  installmentIndex  isCollection  \\\n",
      "0         CA    prescreen         0      1                 1         False   \n",
      "1         CA    prescreen         0      1                 2         False   \n",
      "2         CA    prescreen         0      1                 3         False   \n",
      "3         CA    prescreen         0      1                 4         False   \n",
      "4         CA    prescreen         0      1                 5         False   \n",
      "...      ...          ...       ...    ...               ...           ...   \n",
      "571249    MO  bvMandatory        10      1                38         False   \n",
      "571250    MO  bvMandatory        10      1                39         False   \n",
      "571251    MO  bvMandatory        10      1                40         False   \n",
      "571252    MO  bvMandatory        10      1                41         False   \n",
      "571253    MO  bvMandatory        10      1                42         False   \n",
      "\n",
      "        principal    fees  paymentAmount  paymentStatus  loan_fraud  \n",
      "0          151.98  114.49         266.47              3         0.0  \n",
      "1           49.08  217.39         266.47              3         0.0  \n",
      "2           52.83  213.64         266.47              3         0.0  \n",
      "3           56.86  209.61         266.47              3         0.0  \n",
      "4           61.20  205.27         266.47              3         0.0  \n",
      "...           ...     ...            ...            ...         ...  \n",
      "571249      30.04   12.99          43.03              0         NaN  \n",
      "571250      30.04   12.99          43.03             -1         NaN  \n",
      "571251      32.87   10.16          43.03              0         NaN  \n",
      "571252      32.87   10.16          43.03             -1         NaN  \n",
      "571253      35.96    7.07          43.03              0         NaN  \n",
      "\n",
      "[571254 rows x 20 columns]\n"
     ]
    }
   ],
   "source": [
    "# Define a dictionary mapping paymentStatus to integers\n",
    "payment_status_mapping = {\n",
    "    'Checked': 3,\n",
    "    'Cancelled': 0,\n",
    "    'Pending': 1,\n",
    "    'None': -1,\n",
    "    'Rejected': -2,\n",
    "    'Skipped': -3,\n",
    "    'Rejected Awaiting Retry': -5,\n",
    "    'Returned': -6,\n",
    "    'Complete': 4\n",
    "}\n",
    "\n",
    "# Apply the mapping to the paymentStatus column\n",
    "dff['paymentStatus'] = dff['paymentStatus'].map(payment_status_mapping).fillna(dff['paymentStatus'])\n",
    "\n",
    "# Display the DataFrame to verify the changes\n",
    "print(dff)\n"
   ]
  },
  {
   "cell_type": "code",
   "execution_count": 210,
   "metadata": {},
   "outputs": [
    {
     "name": "stdout",
     "output_type": "stream",
     "text": [
      "       payFrequency    apr  originated  nPaidOff  approved  isFunded  \\\n",
      "0                 B  199.0        True       0.0      True         1   \n",
      "1                 B  199.0        True       0.0      True         1   \n",
      "2                 B  199.0        True       0.0      True         1   \n",
      "3                 B  199.0        True       0.0      True         1   \n",
      "4                 B  199.0        True       0.0      True         1   \n",
      "...             ...    ...         ...       ...       ...       ...   \n",
      "571249            W  490.0        True       0.0      True         1   \n",
      "571250            W  490.0        True       0.0      True         1   \n",
      "571251            W  490.0        True       0.0      True         1   \n",
      "571252            W  490.0        True       0.0      True         1   \n",
      "571253            W  490.0        True       0.0      True         1   \n",
      "\n",
      "                 loanStatus  loanAmount  originallyScheduledPaymentAmount  \\\n",
      "0             Paid Off Loan      3000.0                           6395.19   \n",
      "1             Paid Off Loan      3000.0                           6395.19   \n",
      "2             Paid Off Loan      3000.0                           6395.19   \n",
      "3             Paid Off Loan      3000.0                           6395.19   \n",
      "4             Paid Off Loan      3000.0                           6395.19   \n",
      "...                     ...         ...                               ...   \n",
      "571249  External Collection       400.0                           1037.82   \n",
      "571250  External Collection       400.0                           1037.82   \n",
      "571251  External Collection       400.0                           1037.82   \n",
      "571252  External Collection       400.0                           1037.82   \n",
      "571253  External Collection       400.0                           1037.82   \n",
      "\n",
      "       state     leadType  leadCost  hasCF  installmentIndex  isCollection  \\\n",
      "0         CA    prescreen         0      1                 1             0   \n",
      "1         CA    prescreen         0      1                 2             0   \n",
      "2         CA    prescreen         0      1                 3             0   \n",
      "3         CA    prescreen         0      1                 4             0   \n",
      "4         CA    prescreen         0      1                 5             0   \n",
      "...      ...          ...       ...    ...               ...           ...   \n",
      "571249    MO  bvMandatory        10      1                38             0   \n",
      "571250    MO  bvMandatory        10      1                39             0   \n",
      "571251    MO  bvMandatory        10      1                40             0   \n",
      "571252    MO  bvMandatory        10      1                41             0   \n",
      "571253    MO  bvMandatory        10      1                42             0   \n",
      "\n",
      "        principal    fees  paymentAmount  paymentStatus  loan_fraud  \n",
      "0          151.98  114.49         266.47              3         0.0  \n",
      "1           49.08  217.39         266.47              3         0.0  \n",
      "2           52.83  213.64         266.47              3         0.0  \n",
      "3           56.86  209.61         266.47              3         0.0  \n",
      "4           61.20  205.27         266.47              3         0.0  \n",
      "...           ...     ...            ...            ...         ...  \n",
      "571249      30.04   12.99          43.03              0         NaN  \n",
      "571250      30.04   12.99          43.03             -1         NaN  \n",
      "571251      32.87   10.16          43.03              0         NaN  \n",
      "571252      32.87   10.16          43.03             -1         NaN  \n",
      "571253      35.96    7.07          43.03              0         NaN  \n",
      "\n",
      "[571254 rows x 20 columns]\n"
     ]
    }
   ],
   "source": [
    "# Convert boolean values to integers\n",
    "dff['isCollection'] = dff['isCollection'].astype(int)\n",
    "\n",
    "# Display the DataFrame to verify the changes\n",
    "print(dff)\n"
   ]
  },
  {
   "cell_type": "code",
   "execution_count": 211,
   "metadata": {},
   "outputs": [
    {
     "name": "stdout",
     "output_type": "stream",
     "text": [
      "       payFrequency    apr  originated  nPaidOff  approved  isFunded  \\\n",
      "0                 B  199.0           1       0.0      True         1   \n",
      "1                 B  199.0           1       0.0      True         1   \n",
      "2                 B  199.0           1       0.0      True         1   \n",
      "3                 B  199.0           1       0.0      True         1   \n",
      "4                 B  199.0           1       0.0      True         1   \n",
      "...             ...    ...         ...       ...       ...       ...   \n",
      "571249            W  490.0           1       0.0      True         1   \n",
      "571250            W  490.0           1       0.0      True         1   \n",
      "571251            W  490.0           1       0.0      True         1   \n",
      "571252            W  490.0           1       0.0      True         1   \n",
      "571253            W  490.0           1       0.0      True         1   \n",
      "\n",
      "                 loanStatus  loanAmount  originallyScheduledPaymentAmount  \\\n",
      "0             Paid Off Loan      3000.0                           6395.19   \n",
      "1             Paid Off Loan      3000.0                           6395.19   \n",
      "2             Paid Off Loan      3000.0                           6395.19   \n",
      "3             Paid Off Loan      3000.0                           6395.19   \n",
      "4             Paid Off Loan      3000.0                           6395.19   \n",
      "...                     ...         ...                               ...   \n",
      "571249  External Collection       400.0                           1037.82   \n",
      "571250  External Collection       400.0                           1037.82   \n",
      "571251  External Collection       400.0                           1037.82   \n",
      "571252  External Collection       400.0                           1037.82   \n",
      "571253  External Collection       400.0                           1037.82   \n",
      "\n",
      "       state     leadType  leadCost  hasCF  installmentIndex  isCollection  \\\n",
      "0         CA    prescreen         0      1                 1             0   \n",
      "1         CA    prescreen         0      1                 2             0   \n",
      "2         CA    prescreen         0      1                 3             0   \n",
      "3         CA    prescreen         0      1                 4             0   \n",
      "4         CA    prescreen         0      1                 5             0   \n",
      "...      ...          ...       ...    ...               ...           ...   \n",
      "571249    MO  bvMandatory        10      1                38             0   \n",
      "571250    MO  bvMandatory        10      1                39             0   \n",
      "571251    MO  bvMandatory        10      1                40             0   \n",
      "571252    MO  bvMandatory        10      1                41             0   \n",
      "571253    MO  bvMandatory        10      1                42             0   \n",
      "\n",
      "        principal    fees  paymentAmount  paymentStatus  loan_fraud  \n",
      "0          151.98  114.49         266.47              3         0.0  \n",
      "1           49.08  217.39         266.47              3         0.0  \n",
      "2           52.83  213.64         266.47              3         0.0  \n",
      "3           56.86  209.61         266.47              3         0.0  \n",
      "4           61.20  205.27         266.47              3         0.0  \n",
      "...           ...     ...            ...            ...         ...  \n",
      "571249      30.04   12.99          43.03              0         NaN  \n",
      "571250      30.04   12.99          43.03             -1         NaN  \n",
      "571251      32.87   10.16          43.03              0         NaN  \n",
      "571252      32.87   10.16          43.03             -1         NaN  \n",
      "571253      35.96    7.07          43.03              0         NaN  \n",
      "\n",
      "[571254 rows x 20 columns]\n"
     ]
    }
   ],
   "source": [
    "# Convert boolean values to integers\n",
    "dff['originated'] = dff['originated'].astype(int)\n",
    "\n",
    "# Display the DataFrame to verify the changes\n",
    "print(dff)\n"
   ]
  },
  {
   "cell_type": "code",
   "execution_count": 212,
   "metadata": {},
   "outputs": [
    {
     "name": "stdout",
     "output_type": "stream",
     "text": [
      "       payFrequency    apr  originated  nPaidOff  approved  isFunded  \\\n",
      "0                 B  199.0           1       0.0         1         1   \n",
      "1                 B  199.0           1       0.0         1         1   \n",
      "2                 B  199.0           1       0.0         1         1   \n",
      "3                 B  199.0           1       0.0         1         1   \n",
      "4                 B  199.0           1       0.0         1         1   \n",
      "...             ...    ...         ...       ...       ...       ...   \n",
      "571249            W  490.0           1       0.0         1         1   \n",
      "571250            W  490.0           1       0.0         1         1   \n",
      "571251            W  490.0           1       0.0         1         1   \n",
      "571252            W  490.0           1       0.0         1         1   \n",
      "571253            W  490.0           1       0.0         1         1   \n",
      "\n",
      "                 loanStatus  loanAmount  originallyScheduledPaymentAmount  \\\n",
      "0             Paid Off Loan      3000.0                           6395.19   \n",
      "1             Paid Off Loan      3000.0                           6395.19   \n",
      "2             Paid Off Loan      3000.0                           6395.19   \n",
      "3             Paid Off Loan      3000.0                           6395.19   \n",
      "4             Paid Off Loan      3000.0                           6395.19   \n",
      "...                     ...         ...                               ...   \n",
      "571249  External Collection       400.0                           1037.82   \n",
      "571250  External Collection       400.0                           1037.82   \n",
      "571251  External Collection       400.0                           1037.82   \n",
      "571252  External Collection       400.0                           1037.82   \n",
      "571253  External Collection       400.0                           1037.82   \n",
      "\n",
      "       state     leadType  leadCost  hasCF  installmentIndex  isCollection  \\\n",
      "0         CA    prescreen         0      1                 1             0   \n",
      "1         CA    prescreen         0      1                 2             0   \n",
      "2         CA    prescreen         0      1                 3             0   \n",
      "3         CA    prescreen         0      1                 4             0   \n",
      "4         CA    prescreen         0      1                 5             0   \n",
      "...      ...          ...       ...    ...               ...           ...   \n",
      "571249    MO  bvMandatory        10      1                38             0   \n",
      "571250    MO  bvMandatory        10      1                39             0   \n",
      "571251    MO  bvMandatory        10      1                40             0   \n",
      "571252    MO  bvMandatory        10      1                41             0   \n",
      "571253    MO  bvMandatory        10      1                42             0   \n",
      "\n",
      "        principal    fees  paymentAmount  paymentStatus  loan_fraud  \n",
      "0          151.98  114.49         266.47              3         0.0  \n",
      "1           49.08  217.39         266.47              3         0.0  \n",
      "2           52.83  213.64         266.47              3         0.0  \n",
      "3           56.86  209.61         266.47              3         0.0  \n",
      "4           61.20  205.27         266.47              3         0.0  \n",
      "...           ...     ...            ...            ...         ...  \n",
      "571249      30.04   12.99          43.03              0         NaN  \n",
      "571250      30.04   12.99          43.03             -1         NaN  \n",
      "571251      32.87   10.16          43.03              0         NaN  \n",
      "571252      32.87   10.16          43.03             -1         NaN  \n",
      "571253      35.96    7.07          43.03              0         NaN  \n",
      "\n",
      "[571254 rows x 20 columns]\n"
     ]
    }
   ],
   "source": [
    "# Convert boolean values to integers\n",
    "dff['approved'] = dff['approved'].astype(int)\n",
    "\n",
    "# Display the DataFrame to verify the changes\n",
    "print(dff)"
   ]
  },
  {
   "cell_type": "code",
   "execution_count": 213,
   "metadata": {},
   "outputs": [],
   "source": [
    "dff = dff.drop('loanStatus',axis='columns')"
   ]
  },
  {
   "cell_type": "code",
   "execution_count": 214,
   "metadata": {},
   "outputs": [
    {
     "data": {
      "text/plain": [
       "array(['prescreen', 'organic', 'lead', 'bvMandatory', 'rc_returning',\n",
       "       'california', 'instant-offer', 'express', 'repeat', 'lionpay'],\n",
       "      dtype=object)"
      ]
     },
     "execution_count": 214,
     "metadata": {},
     "output_type": "execute_result"
    }
   ],
   "source": [
    "dff['leadType'].unique()"
   ]
  },
  {
   "cell_type": "code",
   "execution_count": 215,
   "metadata": {},
   "outputs": [
    {
     "name": "stdout",
     "output_type": "stream",
     "text": [
      "       payFrequency    apr  originated  nPaidOff  approved  isFunded  \\\n",
      "0                 B  199.0           1       0.0         1         1   \n",
      "1                 B  199.0           1       0.0         1         1   \n",
      "2                 B  199.0           1       0.0         1         1   \n",
      "3                 B  199.0           1       0.0         1         1   \n",
      "4                 B  199.0           1       0.0         1         1   \n",
      "...             ...    ...         ...       ...       ...       ...   \n",
      "571249            W  490.0           1       0.0         1         1   \n",
      "571250            W  490.0           1       0.0         1         1   \n",
      "571251            W  490.0           1       0.0         1         1   \n",
      "571252            W  490.0           1       0.0         1         1   \n",
      "571253            W  490.0           1       0.0         1         1   \n",
      "\n",
      "        loanAmount  originallyScheduledPaymentAmount state  leadType  \\\n",
      "0           3000.0                           6395.19    CA         1   \n",
      "1           3000.0                           6395.19    CA         1   \n",
      "2           3000.0                           6395.19    CA         1   \n",
      "3           3000.0                           6395.19    CA         1   \n",
      "4           3000.0                           6395.19    CA         1   \n",
      "...            ...                               ...   ...       ...   \n",
      "571249       400.0                           1037.82    MO         4   \n",
      "571250       400.0                           1037.82    MO         4   \n",
      "571251       400.0                           1037.82    MO         4   \n",
      "571252       400.0                           1037.82    MO         4   \n",
      "571253       400.0                           1037.82    MO         4   \n",
      "\n",
      "        leadCost  hasCF  installmentIndex  isCollection  principal    fees  \\\n",
      "0              0      1                 1             0     151.98  114.49   \n",
      "1              0      1                 2             0      49.08  217.39   \n",
      "2              0      1                 3             0      52.83  213.64   \n",
      "3              0      1                 4             0      56.86  209.61   \n",
      "4              0      1                 5             0      61.20  205.27   \n",
      "...          ...    ...               ...           ...        ...     ...   \n",
      "571249        10      1                38             0      30.04   12.99   \n",
      "571250        10      1                39             0      30.04   12.99   \n",
      "571251        10      1                40             0      32.87   10.16   \n",
      "571252        10      1                41             0      32.87   10.16   \n",
      "571253        10      1                42             0      35.96    7.07   \n",
      "\n",
      "        paymentAmount  paymentStatus  loan_fraud  \n",
      "0              266.47              3         0.0  \n",
      "1              266.47              3         0.0  \n",
      "2              266.47              3         0.0  \n",
      "3              266.47              3         0.0  \n",
      "4              266.47              3         0.0  \n",
      "...               ...            ...         ...  \n",
      "571249          43.03              0         NaN  \n",
      "571250          43.03             -1         NaN  \n",
      "571251          43.03              0         NaN  \n",
      "571252          43.03             -1         NaN  \n",
      "571253          43.03              0         NaN  \n",
      "\n",
      "[571254 rows x 19 columns]\n"
     ]
    }
   ],
   "source": [
    "# Define a dictionary mapping each unique value in leadType to integers\n",
    "lead_type_mapping = {\n",
    "    'prescreen': 1,\n",
    "    'organic': 2,\n",
    "    'lead': 3,\n",
    "    'bvMandatory': 4,\n",
    "    'rc_returning': 5,\n",
    "    'california': 6,\n",
    "    'instant-offer': 7,\n",
    "    'express': 8,\n",
    "    'repeat': 9,\n",
    "    'lionpay': 10\n",
    "}\n",
    "\n",
    "# Apply the mapping to the leadType column\n",
    "dff['leadType'] = dff['leadType'].map(lead_type_mapping)\n",
    "\n",
    "# Display the DataFrame to verify the changes\n",
    "print(dff)\n"
   ]
  },
  {
   "cell_type": "code",
   "execution_count": 168,
   "metadata": {},
   "outputs": [
    {
     "data": {
      "text/plain": [
       "array(['MO', 'NC', 'OH', 'WI', 'MI', 'TX', 'PA', 'VA', 'SC', 'WA', 'IN',\n",
       "       'NJ', 'NV', 'FL', 'IL', 'CA', 'UT', 'KY', 'CO', 'AZ', 'CT'],\n",
       "      dtype=object)"
      ]
     },
     "execution_count": 168,
     "metadata": {},
     "output_type": "execute_result"
    }
   ],
   "source": [
    "dff['state'].unique()"
   ]
  },
  {
   "cell_type": "code",
   "execution_count": 216,
   "metadata": {},
   "outputs": [
    {
     "name": "stdout",
     "output_type": "stream",
     "text": [
      "       payFrequency    apr  originated  nPaidOff  approved  isFunded  \\\n",
      "0                 B  199.0           1       0.0         1         1   \n",
      "1                 B  199.0           1       0.0         1         1   \n",
      "2                 B  199.0           1       0.0         1         1   \n",
      "3                 B  199.0           1       0.0         1         1   \n",
      "4                 B  199.0           1       0.0         1         1   \n",
      "...             ...    ...         ...       ...       ...       ...   \n",
      "571249            W  490.0           1       0.0         1         1   \n",
      "571250            W  490.0           1       0.0         1         1   \n",
      "571251            W  490.0           1       0.0         1         1   \n",
      "571252            W  490.0           1       0.0         1         1   \n",
      "571253            W  490.0           1       0.0         1         1   \n",
      "\n",
      "        loanAmount  originallyScheduledPaymentAmount  state  leadType  \\\n",
      "0           3000.0                           6395.19      1         1   \n",
      "1           3000.0                           6395.19      1         1   \n",
      "2           3000.0                           6395.19      1         1   \n",
      "3           3000.0                           6395.19      1         1   \n",
      "4           3000.0                           6395.19      1         1   \n",
      "...            ...                               ...    ...       ...   \n",
      "571249       400.0                           1037.82      2         4   \n",
      "571250       400.0                           1037.82      2         4   \n",
      "571251       400.0                           1037.82      2         4   \n",
      "571252       400.0                           1037.82      2         4   \n",
      "571253       400.0                           1037.82      2         4   \n",
      "\n",
      "        leadCost  hasCF  installmentIndex  isCollection  principal    fees  \\\n",
      "0              0      1                 1             0     151.98  114.49   \n",
      "1              0      1                 2             0      49.08  217.39   \n",
      "2              0      1                 3             0      52.83  213.64   \n",
      "3              0      1                 4             0      56.86  209.61   \n",
      "4              0      1                 5             0      61.20  205.27   \n",
      "...          ...    ...               ...           ...        ...     ...   \n",
      "571249        10      1                38             0      30.04   12.99   \n",
      "571250        10      1                39             0      30.04   12.99   \n",
      "571251        10      1                40             0      32.87   10.16   \n",
      "571252        10      1                41             0      32.87   10.16   \n",
      "571253        10      1                42             0      35.96    7.07   \n",
      "\n",
      "        paymentAmount  paymentStatus  loan_fraud  \n",
      "0              266.47              3         0.0  \n",
      "1              266.47              3         0.0  \n",
      "2              266.47              3         0.0  \n",
      "3              266.47              3         0.0  \n",
      "4              266.47              3         0.0  \n",
      "...               ...            ...         ...  \n",
      "571249          43.03              0         NaN  \n",
      "571250          43.03             -1         NaN  \n",
      "571251          43.03              0         NaN  \n",
      "571252          43.03             -1         NaN  \n",
      "571253          43.03              0         NaN  \n",
      "\n",
      "[571254 rows x 19 columns]\n"
     ]
    }
   ],
   "source": [
    "# Define a dictionary mapping each state abbreviation to an integer\n",
    "state_mapping = {\n",
    "    'CA': 1, 'MO': 2, 'NJ': 3, 'WI': 4, 'IL': 5, 'MI': 6, 'FL': 7, 'SC': 8, 'OH': 9, 'NV': 10,\n",
    "    'IN': 11, 'VA': 12, 'TN': 13, 'OK': 14, 'NC': 15, 'TX': 16, 'PA': 17, 'HI': 18, 'MS': 19, 'KY': 20,\n",
    "    'AL': 21, 'GA': 22, 'NM': 23, 'ID': 24, 'ND': 25, 'AZ': 26, 'CO': 27, 'NE': 28, 'SD': 29, 'MN': 30,\n",
    "    'LA': 31, 'CT': 32, 'WY': 33, 'KS': 34, 'DE': 35, 'WA': 36, 'UT': 37, 'RI': 38, 'IA': 39, 'AK': 40,\n",
    "    'MD': 41\n",
    "}\n",
    "\n",
    "# Apply the mapping to the state column\n",
    "dff['state'] = dff['state'].map(state_mapping)\n",
    "\n",
    "# Display the DataFrame to verify the changes\n",
    "print(dff)\n"
   ]
  },
  {
   "cell_type": "code",
   "execution_count": 217,
   "metadata": {},
   "outputs": [
    {
     "name": "stdout",
     "output_type": "stream",
     "text": [
      "  payFrequency    apr  originated  nPaidOff  approved  isFunded  loanAmount  \\\n",
      "0            B  199.0           1       0.0         1         1      3000.0   \n",
      "1            B  199.0           1       0.0         1         1      3000.0   \n",
      "2            B  199.0           1       0.0         1         1      3000.0   \n",
      "3            B  199.0           1       0.0         1         1      3000.0   \n",
      "4            B  199.0           1       0.0         1         1      3000.0   \n",
      "\n",
      "   originallyScheduledPaymentAmount  state  leadType  leadCost  hasCF  \\\n",
      "0                           6395.19      1         1         0      1   \n",
      "1                           6395.19      1         1         0      1   \n",
      "2                           6395.19      1         1         0      1   \n",
      "3                           6395.19      1         1         0      1   \n",
      "4                           6395.19      1         1         0      1   \n",
      "\n",
      "   installmentIndex  isCollection  principal  \n",
      "0                 1             0     151.98  \n",
      "1                 2             0      49.08  \n",
      "2                 3             0      52.83  \n",
      "3                 4             0      56.86  \n",
      "4                 5             0      61.20  \n"
     ]
    }
   ],
   "source": [
    "print( dff.iloc[:5, :15])"
   ]
  },
  {
   "cell_type": "code",
   "execution_count": 219,
   "metadata": {},
   "outputs": [
    {
     "data": {
      "text/plain": [
       "array(['B', 'W', 'S', 'M', 'I'], dtype=object)"
      ]
     },
     "execution_count": 219,
     "metadata": {},
     "output_type": "execute_result"
    }
   ],
   "source": [
    "dff['payFrequency'].unique()"
   ]
  },
  {
   "cell_type": "code",
   "execution_count": 220,
   "metadata": {},
   "outputs": [
    {
     "name": "stdout",
     "output_type": "stream",
     "text": [
      "        payFrequency    apr  originated  nPaidOff  approved  isFunded  \\\n",
      "0                  1  199.0           1       0.0         1         1   \n",
      "1                  1  199.0           1       0.0         1         1   \n",
      "2                  1  199.0           1       0.0         1         1   \n",
      "3                  1  199.0           1       0.0         1         1   \n",
      "4                  1  199.0           1       0.0         1         1   \n",
      "...              ...    ...         ...       ...       ...       ...   \n",
      "571249             2  490.0           1       0.0         1         1   \n",
      "571250             2  490.0           1       0.0         1         1   \n",
      "571251             2  490.0           1       0.0         1         1   \n",
      "571252             2  490.0           1       0.0         1         1   \n",
      "571253             2  490.0           1       0.0         1         1   \n",
      "\n",
      "        loanAmount  originallyScheduledPaymentAmount  state  leadType  \\\n",
      "0           3000.0                           6395.19      1         1   \n",
      "1           3000.0                           6395.19      1         1   \n",
      "2           3000.0                           6395.19      1         1   \n",
      "3           3000.0                           6395.19      1         1   \n",
      "4           3000.0                           6395.19      1         1   \n",
      "...            ...                               ...    ...       ...   \n",
      "571249       400.0                           1037.82      2         4   \n",
      "571250       400.0                           1037.82      2         4   \n",
      "571251       400.0                           1037.82      2         4   \n",
      "571252       400.0                           1037.82      2         4   \n",
      "571253       400.0                           1037.82      2         4   \n",
      "\n",
      "        leadCost  hasCF  installmentIndex  isCollection  principal    fees  \\\n",
      "0              0      1                 1             0     151.98  114.49   \n",
      "1              0      1                 2             0      49.08  217.39   \n",
      "2              0      1                 3             0      52.83  213.64   \n",
      "3              0      1                 4             0      56.86  209.61   \n",
      "4              0      1                 5             0      61.20  205.27   \n",
      "...          ...    ...               ...           ...        ...     ...   \n",
      "571249        10      1                38             0      30.04   12.99   \n",
      "571250        10      1                39             0      30.04   12.99   \n",
      "571251        10      1                40             0      32.87   10.16   \n",
      "571252        10      1                41             0      32.87   10.16   \n",
      "571253        10      1                42             0      35.96    7.07   \n",
      "\n",
      "        paymentAmount  paymentStatus  loan_fraud  \n",
      "0              266.47              3         0.0  \n",
      "1              266.47              3         0.0  \n",
      "2              266.47              3         0.0  \n",
      "3              266.47              3         0.0  \n",
      "4              266.47              3         0.0  \n",
      "...               ...            ...         ...  \n",
      "571249          43.03              0         NaN  \n",
      "571250          43.03             -1         NaN  \n",
      "571251          43.03              0         NaN  \n",
      "571252          43.03             -1         NaN  \n",
      "571253          43.03              0         NaN  \n",
      "\n",
      "[571254 rows x 19 columns]\n"
     ]
    }
   ],
   "source": [
    "# Define a dictionary mapping each pay frequency abbreviation to an integer\n",
    "pay_frequency_mapping = {\n",
    "    'B': 1,  # Bi-weekly\n",
    "    'W': 2,  # Weekly\n",
    "    'S': 3,  # Semi-monthly\n",
    "    'M': 4,  # Monthly\n",
    "    'I': 5   # Irregular\n",
    "}\n",
    "\n",
    "# Apply the mapping to the payFrequency column\n",
    "dff['payFrequency'] = dff['payFrequency'].map(pay_frequency_mapping)\n",
    "\n",
    "# Display the DataFrame to verify the changes\n",
    "print(dff)\n"
   ]
  },
  {
   "cell_type": "code",
   "execution_count": 221,
   "metadata": {
    "scrolled": false
   },
   "outputs": [
    {
     "name": "stdout",
     "output_type": "stream",
     "text": [
      "payFrequency                             0\n",
      "apr                                      0\n",
      "originated                               0\n",
      "nPaidOff                                 0\n",
      "approved                                 0\n",
      "isFunded                                 0\n",
      "loanAmount                               0\n",
      "originallyScheduledPaymentAmount         0\n",
      "state                                    0\n",
      "leadType                                 0\n",
      "leadCost                                 0\n",
      "hasCF                                    0\n",
      "installmentIndex                         0\n",
      "isCollection                             0\n",
      "principal                                0\n",
      "fees                                     0\n",
      "paymentAmount                            0\n",
      "paymentStatus                            0\n",
      "loan_fraud                          316181\n",
      "dtype: int64\n"
     ]
    },
    {
     "data": {
      "text/plain": [
       "(571254, 19)"
      ]
     },
     "execution_count": 221,
     "metadata": {},
     "output_type": "execute_result"
    }
   ],
   "source": [
    "missing_values = dff.isnull().sum()\n",
    "print(missing_values)\n",
    "dff.shape"
   ]
  },
  {
   "cell_type": "code",
   "execution_count": null,
   "metadata": {},
   "outputs": [],
   "source": [
    "# Drop rows with empty loanId\n",
    "d = dff.dropna(subset=['loan_fraud'])\n",
    "\n",
    "# Reset index\n",
    "d.reset_index(drop=True, inplace=True)"
   ]
  },
  {
   "cell_type": "code",
   "execution_count": null,
   "metadata": {},
   "outputs": [],
   "source": [
    "import xgboost as xgb\n",
    "from sklearn.model_selection import train_test_split\n",
    "from sklearn.metrics import accuracy_score\n",
    "\n",
    "# Separate features (X) and target variable (y)\n",
    "X = d.drop(columns=['loan_fraud'])\n",
    "y = d['loan_fraud']\n",
    "\n",
    "# Split data into training and testing sets\n",
    "X_train, X_test, y_train, y_test = train_test_split(X, y, test_size=0.2, random_state=42)\n",
    "\n",
    "# Initialize XGBoost classifier\n",
    "model = xgb.XGBClassifier()\n",
    "\n",
    "# Train the model on the training data\n",
    "model.fit(X_train, y_train)\n",
    "\n",
    "# Predict the loan fraud status on the testing data\n",
    "y_pred = model.predict(X_test)\n",
    "\n",
    "# Evaluate the model's performance\n",
    "accuracy = accuracy_score(y_test, y_pred)\n",
    "print(\"Accuracy:\", accuracy)\n"
   ]
  },
  {
   "cell_type": "code",
   "execution_count": null,
   "metadata": {},
   "outputs": [],
   "source": [
    "y_pred = model.predict(df)\n",
    "print(y_pred)"
   ]
  },
  {
   "cell_type": "code",
   "execution_count": 176,
   "metadata": {},
   "outputs": [],
   "source": [
    "sub = pd.read_csv(r'D:\\1challenge\\evaluation\\submission.csv')"
   ]
  },
  {
   "cell_type": "code",
   "execution_count": 177,
   "metadata": {},
   "outputs": [],
   "source": [
    "sub['prediction'] = y_pred"
   ]
  },
  {
   "cell_type": "code",
   "execution_count": 178,
   "metadata": {},
   "outputs": [],
   "source": [
    "sub.to_csv(r'D:\\1challenge\\evaluation\\submission.csv',index=False)"
   ]
  },
  {
   "cell_type": "code",
   "execution_count": null,
   "metadata": {},
   "outputs": [],
   "source": []
  }
 ],
 "metadata": {
  "kernelspec": {
   "display_name": "Python 3",
   "language": "python",
   "name": "python3"
  },
  "language_info": {
   "codemirror_mode": {
    "name": "ipython",
    "version": 3
   },
   "file_extension": ".py",
   "mimetype": "text/x-python",
   "name": "python",
   "nbconvert_exporter": "python",
   "pygments_lexer": "ipython3",
   "version": "3.8.5"
  }
 },
 "nbformat": 4,
 "nbformat_minor": 4
}
